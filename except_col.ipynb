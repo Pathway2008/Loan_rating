{
  "nbformat": 4,
  "nbformat_minor": 0,
  "metadata": {
    "colab": {
      "provenance": [],
      "mount_file_id": "1Qm00_c0ii2UWWnX0fLc3LZ6Nriv-VhvI",
      "authorship_tag": "ABX9TyPa58FqMEvA5y74B0HLhjT/",
      "include_colab_link": true
    },
    "kernelspec": {
      "name": "python3",
      "display_name": "Python 3"
    },
    "language_info": {
      "name": "python"
    }
  },
  "cells": [
    {
      "cell_type": "markdown",
      "metadata": {
        "id": "view-in-github",
        "colab_type": "text"
      },
      "source": [
        "<a href=\"https://colab.research.google.com/github/Pathway2008/Loan_rating/blob/main/except_col.ipynb\" target=\"_parent\"><img src=\"https://colab.research.google.com/assets/colab-badge.svg\" alt=\"Open In Colab\"/></a>"
      ]
    },
    {
      "cell_type": "code",
      "execution_count": null,
      "metadata": {
        "id": "9POf8W7tGOfp"
      },
      "outputs": [],
      "source": [
        "import pandas as pd\n",
        "import numpy as np\n",
        "train = pd.read_csv('/content/drive/MyDrive/loan_rating/train.csv')\n",
        "test = pd.read_csv('/content/drive/MyDrive/loan_rating/test.csv')\n",
        "sub = pd.read_csv('/content/drive/MyDrive/loan_rating/sample_submission.csv')"
      ]
    },
    {
      "cell_type": "code",
      "source": [
        "train.drop(['ID'],axis=1,inplace=True)\n",
        "test.drop(['ID'],axis=1,inplace=True)"
      ],
      "metadata": {
        "id": "YCAvQ19NGRHb"
      },
      "execution_count": null,
      "outputs": []
    },
    {
      "cell_type": "code",
      "source": [
        "train = train[train['주택소유상태'] != 'ANY']\n",
        "train['근로기간'] = train['근로기간'].replace('< 1 year', '<1 year')\n",
        "train['근로기간'] = train['근로기간'].replace('1 year', '1 years')\n",
        "train['근로기간'] = train['근로기간'].replace('3', '3 years')\n",
        "train['근로기간'] = train['근로기간'].replace('10+years', '10+ years')"
      ],
      "metadata": {
        "id": "zxpo4x05GRFT"
      },
      "execution_count": null,
      "outputs": []
    },
    {
      "cell_type": "code",
      "source": [
        "test['근로기간'] = test['근로기간'].replace('< 1 year', '<1 year')\n",
        "test['근로기간'] = test['근로기간'].replace('1 year', '1 years')\n",
        "test['근로기간'] = test['근로기간'].replace('3', '3 years')\n",
        "test['근로기간'] = test['근로기간'].replace('10+years', '10+ years')"
      ],
      "metadata": {
        "id": "2cpRawHbGRDH"
      },
      "execution_count": null,
      "outputs": []
    },
    {
      "cell_type": "code",
      "source": [
        "train['원금/대출'] = train['총상환원금']/train['대출금액']\n",
        "train['이자/대출'] = train['총상환이자']/train['대출금액']\n",
        "train['소득/대출'] = train['연간소득'] / train['대출금액']\n",
        "train['연체계좌/총계좌'] = train['연체계좌수'] / train['총계좌수']\n",
        "\n",
        "train['대출월금액'] = train.apply(lambda row: row['대출금액'] / 36 if row['대출기간'] == 0 else row['대출금액'] / 60, axis=1)\n",
        "train['이자/소득'] = train.apply(lambda row: row['총상환이자'] / row['연간소득'] if row['연간소득'] != 0 else 0, axis=1)\n",
        "train['원금/소득'] = train.apply(lambda row: row['총상환원금'] / row['연간소득'] if row['연간소득'] != 0 else 0, axis=1)\n",
        "train['이자/원금'] = train.apply(lambda row: row['총상환이자'] / row['총상환원금'] if row['총상환원금'] != 0 else 0, axis=1)"
      ],
      "metadata": {
        "id": "jbEc5ZK7GRA1"
      },
      "execution_count": null,
      "outputs": []
    },
    {
      "cell_type": "code",
      "source": [
        "test['원금/대출'] = test['총상환원금'] / test['대출금액']\n",
        "test['이자/대출'] = test['총상환이자'] / test['대출금액']\n",
        "test['소득/대출'] = test['연간소득'] / test['대출금액']\n",
        "test['연체계좌/총계좌'] = test['연체계좌수'] / test['총계좌수']\n",
        "\n",
        "test['대출월금액'] = test.apply(lambda row: row['대출금액'] / 36 if row['대출기간'] == 0 else row['대출금액'] / 60, axis=1)\n",
        "test['이자/소득'] = test.apply(lambda row: row['총상환이자'] / row['연간소득'] if row['연간소득'] != 0 else 0, axis=1)\n",
        "test['원금/소득'] = test.apply(lambda row: row['총상환원금'] / row['연간소득'] if row['연간소득'] != 0 else 0, axis=1)\n",
        "test['이자/원금'] = test.apply(lambda row: row['총상환이자'] / row['총상환원금'] if row['총상환원금'] != 0 else 0, axis=1)"
      ],
      "metadata": {
        "id": "r8gCSjNXGQ-g"
      },
      "execution_count": null,
      "outputs": []
    },
    {
      "cell_type": "code",
      "source": [
        "train['총상환이자**3'] = train['총상환이자']**3\n",
        "train['총상환원금**3'] = train['총상환원금']**3\n",
        "\n",
        "test['총상환이자**3'] = test['총상환이자']**3\n",
        "test['총상환원금**3'] = test['총상환원금']**3"
      ],
      "metadata": {
        "id": "JmoCRQX7Ga1M"
      },
      "execution_count": null,
      "outputs": []
    },
    {
      "cell_type": "code",
      "source": [
        "from sklearn.preprocessing import LabelEncoder\n",
        "ordinal_features = ['대출기간', '근로기간', '주택소유상태','대출목적']\n",
        "\n",
        "for feature in ordinal_features:\n",
        "    le = LabelEncoder()\n",
        "    le = le.fit(train[feature])\n",
        "    train[feature] = le.transform(train[feature])\n",
        "\n",
        "    for label in np.unique(test[feature]):\n",
        "        if label not in le.classes_:\n",
        "            le.classes_ = np.append(le.classes_, label)\n",
        "    test[feature] = le.transform(test[feature])"
      ],
      "metadata": {
        "id": "R17IeH7MGcpf"
      },
      "execution_count": null,
      "outputs": []
    },
    {
      "cell_type": "code",
      "source": [
        "train['대출등급'] = le.fit_transform(train['대출등급'])"
      ],
      "metadata": {
        "id": "Wu4ZHzXYGcnP"
      },
      "execution_count": null,
      "outputs": []
    },
    {
      "cell_type": "code",
      "source": [
        "!pip install catboost"
      ],
      "metadata": {
        "colab": {
          "base_uri": "https://localhost:8080/"
        },
        "id": "Zg_8Z1rDrIX6",
        "outputId": "c7888eed-9604-41ab-9197-56900e454cf6"
      },
      "execution_count": null,
      "outputs": [
        {
          "output_type": "stream",
          "name": "stdout",
          "text": [
            "Collecting catboost\n",
            "  Downloading catboost-1.2.2-cp310-cp310-manylinux2014_x86_64.whl (98.7 MB)\n",
            "\u001b[2K     \u001b[90m━━━━━━━━━━━━━━━━━━━━━━━━━━━━━━━━━━━━━━━━\u001b[0m \u001b[32m98.7/98.7 MB\u001b[0m \u001b[31m6.3 MB/s\u001b[0m eta \u001b[36m0:00:00\u001b[0m\n",
            "\u001b[?25hRequirement already satisfied: graphviz in /usr/local/lib/python3.10/dist-packages (from catboost) (0.20.1)\n",
            "Requirement already satisfied: matplotlib in /usr/local/lib/python3.10/dist-packages (from catboost) (3.7.1)\n",
            "Requirement already satisfied: numpy>=1.16.0 in /usr/local/lib/python3.10/dist-packages (from catboost) (1.23.5)\n",
            "Requirement already satisfied: pandas>=0.24 in /usr/local/lib/python3.10/dist-packages (from catboost) (1.5.3)\n",
            "Requirement already satisfied: scipy in /usr/local/lib/python3.10/dist-packages (from catboost) (1.11.4)\n",
            "Requirement already satisfied: plotly in /usr/local/lib/python3.10/dist-packages (from catboost) (5.15.0)\n",
            "Requirement already satisfied: six in /usr/local/lib/python3.10/dist-packages (from catboost) (1.16.0)\n",
            "Requirement already satisfied: python-dateutil>=2.8.1 in /usr/local/lib/python3.10/dist-packages (from pandas>=0.24->catboost) (2.8.2)\n",
            "Requirement already satisfied: pytz>=2020.1 in /usr/local/lib/python3.10/dist-packages (from pandas>=0.24->catboost) (2023.4)\n",
            "Requirement already satisfied: contourpy>=1.0.1 in /usr/local/lib/python3.10/dist-packages (from matplotlib->catboost) (1.2.0)\n",
            "Requirement already satisfied: cycler>=0.10 in /usr/local/lib/python3.10/dist-packages (from matplotlib->catboost) (0.12.1)\n",
            "Requirement already satisfied: fonttools>=4.22.0 in /usr/local/lib/python3.10/dist-packages (from matplotlib->catboost) (4.47.2)\n",
            "Requirement already satisfied: kiwisolver>=1.0.1 in /usr/local/lib/python3.10/dist-packages (from matplotlib->catboost) (1.4.5)\n",
            "Requirement already satisfied: packaging>=20.0 in /usr/local/lib/python3.10/dist-packages (from matplotlib->catboost) (23.2)\n",
            "Requirement already satisfied: pillow>=6.2.0 in /usr/local/lib/python3.10/dist-packages (from matplotlib->catboost) (9.4.0)\n",
            "Requirement already satisfied: pyparsing>=2.3.1 in /usr/local/lib/python3.10/dist-packages (from matplotlib->catboost) (3.1.1)\n",
            "Requirement already satisfied: tenacity>=6.2.0 in /usr/local/lib/python3.10/dist-packages (from plotly->catboost) (8.2.3)\n",
            "Installing collected packages: catboost\n",
            "Successfully installed catboost-1.2.2\n"
          ]
        }
      ]
    },
    {
      "cell_type": "code",
      "source": [],
      "metadata": {
        "id": "-bxV6kp5rUuY"
      },
      "execution_count": null,
      "outputs": []
    },
    {
      "cell_type": "code",
      "source": [
        "import xgboost as xgb\n",
        "from catboost import CatBoostClassifier\n",
        "from sklearn.ensemble import RandomForestClassifier\n",
        "import lightgbm as lgb\n",
        "from sklearn.model_selection import cross_val_score, StratifiedKFold, train_test_split\n",
        "from sklearn.preprocessing import StandardScaler\n",
        "from sklearn.metrics import f1_score"
      ],
      "metadata": {
        "id": "jghLSKLTrVfu"
      },
      "execution_count": null,
      "outputs": []
    },
    {
      "cell_type": "code",
      "source": [
        "from sklearn.model_selection import KFold\n",
        "kf = StratifiedKFold(n_splits=5, shuffle=False)"
      ],
      "metadata": {
        "id": "Upp5NjLkrZo8"
      },
      "execution_count": null,
      "outputs": []
    },
    {
      "cell_type": "code",
      "source": [
        "from sklearn.model_selection import train_test_split\n",
        "X = train.drop(['대출등급','총상환원금','총상환이자','연체계좌수','총계좌수','연체계좌/총계좌'], axis=1)\n",
        "y = train['대출등급']\n",
        "X_train, X_test, y_train, y_test = train_test_split(X, y, stratify=y, test_size = 0.3, random_state = 42)"
      ],
      "metadata": {
        "id": "k0d-9nfKra30"
      },
      "execution_count": null,
      "outputs": []
    },
    {
      "cell_type": "code",
      "source": [
        "# XGBoost\n",
        "xgb_model = xgb.XGBClassifier()#objective = 'multi:softmax', eval_metric = 'logloss'\n",
        "xgb_model.fit(X_train, y_train)\n",
        "xgb_scores = cross_val_score(xgb_model, X_train, y_train, cv=kf, scoring='f1_macro')\n",
        "# print(f'XGBoost Cross-Validation F1 Macro: {xgb_scores.mean()}')\n",
        "xgb_predictions = xgb_model.predict(X_test)\n",
        "xgb_macro = f1_score(y_test, xgb_predictions, average='macro')\n",
        "# print(f'XGBoost test F1 Macro: {xgb_macro}\\n')\n",
        "\n",
        "\n",
        "# CatBoost\n",
        "cat_model = CatBoostClassifier(random_state=42, verbose=False)\n",
        "cat_model.fit(X_train, y_train)\n",
        "cat_predictions = cat_model.predict(X_test)\n",
        "cat_scores = cross_val_score(cat_model, X_train, y_train, cv=kf, scoring='f1_macro')\n",
        "# print(f'CatBoost Cross-Validation F1 Macro: {cat_scores.mean()}')\n",
        "cat_macro = f1_score(y_test, cat_predictions, average='macro')\n",
        "# print(f'Cat test F1 Macro: {cat_macro}\\n')\n",
        "\n",
        "# Random Forest\n",
        "rf_model = RandomForestClassifier(random_state=42)\n",
        "rf_model.fit(X_train, y_train)\n",
        "rf_predictions = rf_model.predict(X_test)\n",
        "rf_scores = cross_val_score(rf_model, X_train, y_train, cv=kf, scoring='f1_macro')\n",
        "# print(f'Random Forest Cross-Validation F1 Macro: {rf_scores.mean()}')\n",
        "rf_macro = f1_score(y_test, rf_predictions, average='macro')\n",
        "# print(f'RF test F1 Macro: {rf_macro}\\n')\n",
        "\n",
        "# LightGBM\n",
        "lgb_model = lgb.LGBMClassifier(random_state=42)\n",
        "lgb_model.fit(X_train, y_train)\n",
        "lgb_predictions = lgb_model.predict(X_test)\n",
        "lgb_scores = cross_val_score(lgb_model, X_train, y_train, cv=kf, scoring='f1_macro')\n",
        "# print(f'LightGBM Cross-Validation F1 Macro: {lgb_scores.mean()}')\n",
        "lgb_macro = f1_score(y_test, lgb_predictions, average='macro')\n",
        "# print(f'RF test F1 Macro: {lgb_macro}\\n')"
      ],
      "metadata": {
        "colab": {
          "base_uri": "https://localhost:8080/"
        },
        "id": "GnhlU9xqrpuY",
        "outputId": "654a8414-7146-4f5a-e0b4-e344787c6f59"
      },
      "execution_count": null,
      "outputs": [
        {
          "output_type": "stream",
          "name": "stdout",
          "text": [
            "[LightGBM] [Info] Auto-choosing row-wise multi-threading, the overhead of testing was 0.010417 seconds.\n",
            "You can set `force_row_wise=true` to remove the overhead.\n",
            "And if memory is not enough, you can set `force_col_wise=true`.\n",
            "[LightGBM] [Info] Total Bins 3135\n",
            "[LightGBM] [Info] Number of data points in the train set: 67405, number of used features: 18\n",
            "[LightGBM] [Info] Start training from score -1.747717\n",
            "[LightGBM] [Info] Start training from score -1.206424\n",
            "[LightGBM] [Info] Start training from score -1.248802\n",
            "[LightGBM] [Info] Start training from score -1.975557\n",
            "[LightGBM] [Info] Start training from score -2.572111\n",
            "[LightGBM] [Info] Start training from score -3.897369\n",
            "[LightGBM] [Info] Start training from score -5.434895\n",
            "[LightGBM] [Info] Auto-choosing row-wise multi-threading, the overhead of testing was 0.005159 seconds.\n",
            "You can set `force_row_wise=true` to remove the overhead.\n",
            "And if memory is not enough, you can set `force_col_wise=true`.\n",
            "[LightGBM] [Info] Total Bins 3129\n",
            "[LightGBM] [Info] Number of data points in the train set: 53924, number of used features: 18\n",
            "[LightGBM] [Info] Start training from score -1.747717\n",
            "[LightGBM] [Info] Start training from score -1.206399\n",
            "[LightGBM] [Info] Start training from score -1.248802\n",
            "[LightGBM] [Info] Start training from score -1.975610\n",
            "[LightGBM] [Info] Start training from score -2.572208\n",
            "[LightGBM] [Info] Start training from score -3.897735\n",
            "[LightGBM] [Info] Start training from score -5.431499\n",
            "[LightGBM] [Info] Auto-choosing row-wise multi-threading, the overhead of testing was 0.008371 seconds.\n",
            "You can set `force_row_wise=true` to remove the overhead.\n",
            "And if memory is not enough, you can set `force_col_wise=true`.\n",
            "[LightGBM] [Info] Total Bins 3131\n",
            "[LightGBM] [Info] Number of data points in the train set: 53924, number of used features: 18\n",
            "[LightGBM] [Info] Start training from score -1.747717\n",
            "[LightGBM] [Info] Start training from score -1.206399\n",
            "[LightGBM] [Info] Start training from score -1.248802\n",
            "[LightGBM] [Info] Start training from score -1.975477\n",
            "[LightGBM] [Info] Start training from score -2.572208\n",
            "[LightGBM] [Info] Start training from score -3.897735\n",
            "[LightGBM] [Info] Start training from score -5.435745\n",
            "[LightGBM] [Info] Auto-choosing row-wise multi-threading, the overhead of testing was 0.005233 seconds.\n",
            "You can set `force_row_wise=true` to remove the overhead.\n",
            "And if memory is not enough, you can set `force_col_wise=true`.\n",
            "[LightGBM] [Info] Total Bins 3127\n",
            "[LightGBM] [Info] Number of data points in the train set: 53924, number of used features: 18\n",
            "[LightGBM] [Info] Start training from score -1.747717\n",
            "[LightGBM] [Info] Start training from score -1.206399\n",
            "[LightGBM] [Info] Start training from score -1.248802\n",
            "[LightGBM] [Info] Start training from score -1.975477\n",
            "[LightGBM] [Info] Start training from score -2.572208\n",
            "[LightGBM] [Info] Start training from score -3.897735\n",
            "[LightGBM] [Info] Start training from score -5.435745\n",
            "[LightGBM] [Info] Auto-choosing row-wise multi-threading, the overhead of testing was 0.008344 seconds.\n",
            "You can set `force_row_wise=true` to remove the overhead.\n",
            "And if memory is not enough, you can set `force_col_wise=true`.\n",
            "[LightGBM] [Info] Total Bins 3130\n",
            "[LightGBM] [Info] Number of data points in the train set: 53924, number of used features: 18\n",
            "[LightGBM] [Info] Start training from score -1.747717\n",
            "[LightGBM] [Info] Start training from score -1.206461\n",
            "[LightGBM] [Info] Start training from score -1.248802\n",
            "[LightGBM] [Info] Start training from score -1.975610\n",
            "[LightGBM] [Info] Start training from score -2.571965\n",
            "[LightGBM] [Info] Start training from score -3.896821\n",
            "[LightGBM] [Info] Start training from score -5.435745\n",
            "[LightGBM] [Info] Auto-choosing row-wise multi-threading, the overhead of testing was 0.005213 seconds.\n",
            "You can set `force_row_wise=true` to remove the overhead.\n",
            "And if memory is not enough, you can set `force_col_wise=true`.\n",
            "[LightGBM] [Info] Total Bins 3130\n",
            "[LightGBM] [Info] Number of data points in the train set: 53924, number of used features: 18\n",
            "[LightGBM] [Info] Start training from score -1.747717\n",
            "[LightGBM] [Info] Start training from score -1.206461\n",
            "[LightGBM] [Info] Start training from score -1.248802\n",
            "[LightGBM] [Info] Start training from score -1.975610\n",
            "[LightGBM] [Info] Start training from score -2.571965\n",
            "[LightGBM] [Info] Start training from score -3.896821\n",
            "[LightGBM] [Info] Start training from score -5.435745\n"
          ]
        }
      ]
    },
    {
      "cell_type": "code",
      "source": [
        "#일부제외\n",
        "print(f'XGBoost Cross-Validation F1 Macro: {xgb_scores.mean()}')\n",
        "print(f'CatBoost Cross-Validation F1 Macro: {cat_scores.mean()}')\n",
        "print(f'Random Forest Cross-Validation F1 Macro: {rf_scores.mean()}')\n",
        "print(f'LightGBM Cross-Validation F1 Macro: {lgb_scores.mean()}\\n\\n')\n",
        "\n",
        "print(f'xgb test F1 Macro: {xgb_macro}')\n",
        "print(f'cat test F1 Macro: {cat_macro}')\n",
        "print(f'rf test F1 Macro: {rf_macro}')\n",
        "print(f'lgb test F1 Macro: {lgb_macro}')"
      ],
      "metadata": {
        "colab": {
          "base_uri": "https://localhost:8080/"
        },
        "id": "Cmh4rL1TrpsX",
        "outputId": "feb0b4ca-53e9-4941-8ac1-fa3251a51a86"
      },
      "execution_count": null,
      "outputs": [
        {
          "output_type": "stream",
          "name": "stdout",
          "text": [
            "XGBoost Cross-Validation F1 Macro: 0.9157216818245895\n",
            "CatBoost Cross-Validation F1 Macro: 0.8994425726381035\n",
            "Random Forest Cross-Validation F1 Macro: 0.9228498453663916\n",
            "LightGBM Cross-Validation F1 Macro: 0.8852141716017499\n",
            "\n",
            "\n",
            "xgb test F1 Macro: 0.9123649189118959\n",
            "cat test F1 Macro: 0.8965524362362728\n",
            "rf test F1 Macro: 0.9203135360404036\n",
            "lgb test F1 Macro: 0.8593724195817858\n"
          ]
        }
      ]
    },
    {
      "cell_type": "code",
      "source": [
        "cat_predictions_flat = np.ravel(cat_predictions)\n",
        "data = {\n",
        "    'rf': rf_predictions,\n",
        "    'xgb': xgb_predictions,\n",
        "    'cat': cat_predictions_flat,\n",
        "    'lgb': lgb_predictions,\n",
        "    'sol': y_test\n",
        "\n",
        "}\n",
        "pred_df = pd.DataFrame(data)"
      ],
      "metadata": {
        "id": "Y4mmtF2rrpqU"
      },
      "execution_count": null,
      "outputs": []
    },
    {
      "cell_type": "code",
      "source": [
        "#최빈값 대체\n",
        "prediction_columns = ['xgb', 'cat', 'rf', 'lgb']\n",
        "\n",
        "pred_df['pred'] = pred_df[prediction_columns].mode(axis=1, dropna=False).iloc[:, 0]\n",
        "pred_df['pred'] = pred_df['pred'].astype(int)"
      ],
      "metadata": {
        "id": "Clqhf56AuvVK"
      },
      "execution_count": null,
      "outputs": []
    },
    {
      "cell_type": "code",
      "source": [
        "stand_blender = f1_score(pred_df['sol'], pred_df['pred'], average='macro')\n",
        "stand_blender"
      ],
      "metadata": {
        "colab": {
          "base_uri": "https://localhost:8080/"
        },
        "id": "Pcl-EN9TuwoS",
        "outputId": "ae1a6237-e205-41fd-b3f3-3aeae9070418"
      },
      "execution_count": null,
      "outputs": [
        {
          "output_type": "execute_result",
          "data": {
            "text/plain": [
              "0.9158172750163569"
            ]
          },
          "metadata": {},
          "execution_count": 19
        }
      ]
    },
    {
      "cell_type": "code",
      "source": [
        "#최빈값 대체\n",
        "prediction_columns = ['xgb', 'cat', 'rf']\n",
        "\n",
        "pred_df['pred'] = pred_df[prediction_columns].mode(axis=1, dropna=False).iloc[:, 0]\n",
        "pred_df['pred'] = pred_df['pred'].astype(int)"
      ],
      "metadata": {
        "id": "kxY-LeItu-Rf"
      },
      "execution_count": null,
      "outputs": []
    },
    {
      "cell_type": "code",
      "source": [
        "stand_blender = f1_score(pred_df['sol'], pred_df['pred'], average='macro')\n",
        "stand_blender"
      ],
      "metadata": {
        "colab": {
          "base_uri": "https://localhost:8080/"
        },
        "id": "9upUEOubvCn-",
        "outputId": "1940c1ac-199e-4331-c57c-2dd4be12c643"
      },
      "execution_count": null,
      "outputs": [
        {
          "output_type": "execute_result",
          "data": {
            "text/plain": [
              "0.9171477574825929"
            ]
          },
          "metadata": {},
          "execution_count": 21
        }
      ]
    },
    {
      "cell_type": "code",
      "source": [
        "#최빈값 대체\n",
        "prediction_columns = ['xgb', 'rf']\n",
        "\n",
        "pred_df['pred'] = pred_df[prediction_columns].mode(axis=1, dropna=False).iloc[:, 0]\n",
        "pred_df['pred'] = pred_df['pred'].astype(int)\n",
        "\n",
        "stand_blender = f1_score(pred_df['sol'], pred_df['pred'], average='macro')\n",
        "stand_blender"
      ],
      "metadata": {
        "colab": {
          "base_uri": "https://localhost:8080/"
        },
        "id": "wmh2eWOyvIw4",
        "outputId": "94474935-a91a-42ad-d7a5-140a210ce04a"
      },
      "execution_count": null,
      "outputs": [
        {
          "output_type": "execute_result",
          "data": {
            "text/plain": [
              "0.9153108832710753"
            ]
          },
          "metadata": {},
          "execution_count": 22
        }
      ]
    },
    {
      "cell_type": "code",
      "source": [
        "#최빈값 대체\n",
        "prediction_columns = ['rf','xgb','cat']\n",
        "\n",
        "pred_df['pred'] = pred_df[prediction_columns].mode(axis=1, dropna=False).iloc[:, 0]\n",
        "pred_df['pred'] = pred_df['pred'].astype(int)\n",
        "\n",
        "stand_blender = f1_score(pred_df['sol'], pred_df['pred'], average='macro')\n",
        "stand_blender"
      ],
      "metadata": {
        "colab": {
          "base_uri": "https://localhost:8080/"
        },
        "id": "S_fNNWdnvUyU",
        "outputId": "f40e95dd-6345-4700-ab12-046945f8d280"
      },
      "execution_count": null,
      "outputs": [
        {
          "output_type": "execute_result",
          "data": {
            "text/plain": [
              "0.9171477574825929"
            ]
          },
          "metadata": {},
          "execution_count": 32
        }
      ]
    },
    {
      "cell_type": "code",
      "source": [
        "stand_blender = f1_score(pred_df['sol'], pred_df['rf'], average='macro')\n",
        "stand_blender"
      ],
      "metadata": {
        "colab": {
          "base_uri": "https://localhost:8080/"
        },
        "id": "1A9EI5xKwpkw",
        "outputId": "3bedcb7e-c13b-4749-fe67-9ae9ba726ca5"
      },
      "execution_count": null,
      "outputs": [
        {
          "output_type": "execute_result",
          "data": {
            "text/plain": [
              "0.9203135360404036"
            ]
          },
          "metadata": {},
          "execution_count": 30
        }
      ]
    },
    {
      "cell_type": "code",
      "source": [
        "pred_df['rf2'] = pred_df['rf']\n",
        "pred_df.head()"
      ],
      "metadata": {
        "colab": {
          "base_uri": "https://localhost:8080/",
          "height": 206
        },
        "id": "whI0Y9i8xCoX",
        "outputId": "cd40d7b6-f02a-4c9c-cc2e-0d1336f9a542"
      },
      "execution_count": null,
      "outputs": [
        {
          "output_type": "execute_result",
          "data": {
            "text/plain": [
              "       rf  xgb  cat  lgb  sol  rf2\n",
              "72084   2    2    2    2    2    2\n",
              "42625   0    0    1    1    0    0\n",
              "1288    1    1    1    1    1    1\n",
              "19240   0    0    0    0    0    0\n",
              "10764   2    2    2    2    2    2"
            ],
            "text/html": [
              "\n",
              "  <div id=\"df-de714756-51f9-46bd-ab71-90a70fc2f4f9\" class=\"colab-df-container\">\n",
              "    <div>\n",
              "<style scoped>\n",
              "    .dataframe tbody tr th:only-of-type {\n",
              "        vertical-align: middle;\n",
              "    }\n",
              "\n",
              "    .dataframe tbody tr th {\n",
              "        vertical-align: top;\n",
              "    }\n",
              "\n",
              "    .dataframe thead th {\n",
              "        text-align: right;\n",
              "    }\n",
              "</style>\n",
              "<table border=\"1\" class=\"dataframe\">\n",
              "  <thead>\n",
              "    <tr style=\"text-align: right;\">\n",
              "      <th></th>\n",
              "      <th>rf</th>\n",
              "      <th>xgb</th>\n",
              "      <th>cat</th>\n",
              "      <th>lgb</th>\n",
              "      <th>sol</th>\n",
              "      <th>rf2</th>\n",
              "    </tr>\n",
              "  </thead>\n",
              "  <tbody>\n",
              "    <tr>\n",
              "      <th>72084</th>\n",
              "      <td>2</td>\n",
              "      <td>2</td>\n",
              "      <td>2</td>\n",
              "      <td>2</td>\n",
              "      <td>2</td>\n",
              "      <td>2</td>\n",
              "    </tr>\n",
              "    <tr>\n",
              "      <th>42625</th>\n",
              "      <td>0</td>\n",
              "      <td>0</td>\n",
              "      <td>1</td>\n",
              "      <td>1</td>\n",
              "      <td>0</td>\n",
              "      <td>0</td>\n",
              "    </tr>\n",
              "    <tr>\n",
              "      <th>1288</th>\n",
              "      <td>1</td>\n",
              "      <td>1</td>\n",
              "      <td>1</td>\n",
              "      <td>1</td>\n",
              "      <td>1</td>\n",
              "      <td>1</td>\n",
              "    </tr>\n",
              "    <tr>\n",
              "      <th>19240</th>\n",
              "      <td>0</td>\n",
              "      <td>0</td>\n",
              "      <td>0</td>\n",
              "      <td>0</td>\n",
              "      <td>0</td>\n",
              "      <td>0</td>\n",
              "    </tr>\n",
              "    <tr>\n",
              "      <th>10764</th>\n",
              "      <td>2</td>\n",
              "      <td>2</td>\n",
              "      <td>2</td>\n",
              "      <td>2</td>\n",
              "      <td>2</td>\n",
              "      <td>2</td>\n",
              "    </tr>\n",
              "  </tbody>\n",
              "</table>\n",
              "</div>\n",
              "    <div class=\"colab-df-buttons\">\n",
              "\n",
              "  <div class=\"colab-df-container\">\n",
              "    <button class=\"colab-df-convert\" onclick=\"convertToInteractive('df-de714756-51f9-46bd-ab71-90a70fc2f4f9')\"\n",
              "            title=\"Convert this dataframe to an interactive table.\"\n",
              "            style=\"display:none;\">\n",
              "\n",
              "  <svg xmlns=\"http://www.w3.org/2000/svg\" height=\"24px\" viewBox=\"0 -960 960 960\">\n",
              "    <path d=\"M120-120v-720h720v720H120Zm60-500h600v-160H180v160Zm220 220h160v-160H400v160Zm0 220h160v-160H400v160ZM180-400h160v-160H180v160Zm440 0h160v-160H620v160ZM180-180h160v-160H180v160Zm440 0h160v-160H620v160Z\"/>\n",
              "  </svg>\n",
              "    </button>\n",
              "\n",
              "  <style>\n",
              "    .colab-df-container {\n",
              "      display:flex;\n",
              "      gap: 12px;\n",
              "    }\n",
              "\n",
              "    .colab-df-convert {\n",
              "      background-color: #E8F0FE;\n",
              "      border: none;\n",
              "      border-radius: 50%;\n",
              "      cursor: pointer;\n",
              "      display: none;\n",
              "      fill: #1967D2;\n",
              "      height: 32px;\n",
              "      padding: 0 0 0 0;\n",
              "      width: 32px;\n",
              "    }\n",
              "\n",
              "    .colab-df-convert:hover {\n",
              "      background-color: #E2EBFA;\n",
              "      box-shadow: 0px 1px 2px rgba(60, 64, 67, 0.3), 0px 1px 3px 1px rgba(60, 64, 67, 0.15);\n",
              "      fill: #174EA6;\n",
              "    }\n",
              "\n",
              "    .colab-df-buttons div {\n",
              "      margin-bottom: 4px;\n",
              "    }\n",
              "\n",
              "    [theme=dark] .colab-df-convert {\n",
              "      background-color: #3B4455;\n",
              "      fill: #D2E3FC;\n",
              "    }\n",
              "\n",
              "    [theme=dark] .colab-df-convert:hover {\n",
              "      background-color: #434B5C;\n",
              "      box-shadow: 0px 1px 3px 1px rgba(0, 0, 0, 0.15);\n",
              "      filter: drop-shadow(0px 1px 2px rgba(0, 0, 0, 0.3));\n",
              "      fill: #FFFFFF;\n",
              "    }\n",
              "  </style>\n",
              "\n",
              "    <script>\n",
              "      const buttonEl =\n",
              "        document.querySelector('#df-de714756-51f9-46bd-ab71-90a70fc2f4f9 button.colab-df-convert');\n",
              "      buttonEl.style.display =\n",
              "        google.colab.kernel.accessAllowed ? 'block' : 'none';\n",
              "\n",
              "      async function convertToInteractive(key) {\n",
              "        const element = document.querySelector('#df-de714756-51f9-46bd-ab71-90a70fc2f4f9');\n",
              "        const dataTable =\n",
              "          await google.colab.kernel.invokeFunction('convertToInteractive',\n",
              "                                                    [key], {});\n",
              "        if (!dataTable) return;\n",
              "\n",
              "        const docLinkHtml = 'Like what you see? Visit the ' +\n",
              "          '<a target=\"_blank\" href=https://colab.research.google.com/notebooks/data_table.ipynb>data table notebook</a>'\n",
              "          + ' to learn more about interactive tables.';\n",
              "        element.innerHTML = '';\n",
              "        dataTable['output_type'] = 'display_data';\n",
              "        await google.colab.output.renderOutput(dataTable, element);\n",
              "        const docLink = document.createElement('div');\n",
              "        docLink.innerHTML = docLinkHtml;\n",
              "        element.appendChild(docLink);\n",
              "      }\n",
              "    </script>\n",
              "  </div>\n",
              "\n",
              "\n",
              "<div id=\"df-8fc7665a-5dbb-456e-87e5-1a93d88dc2ed\">\n",
              "  <button class=\"colab-df-quickchart\" onclick=\"quickchart('df-8fc7665a-5dbb-456e-87e5-1a93d88dc2ed')\"\n",
              "            title=\"Suggest charts\"\n",
              "            style=\"display:none;\">\n",
              "\n",
              "<svg xmlns=\"http://www.w3.org/2000/svg\" height=\"24px\"viewBox=\"0 0 24 24\"\n",
              "     width=\"24px\">\n",
              "    <g>\n",
              "        <path d=\"M19 3H5c-1.1 0-2 .9-2 2v14c0 1.1.9 2 2 2h14c1.1 0 2-.9 2-2V5c0-1.1-.9-2-2-2zM9 17H7v-7h2v7zm4 0h-2V7h2v10zm4 0h-2v-4h2v4z\"/>\n",
              "    </g>\n",
              "</svg>\n",
              "  </button>\n",
              "\n",
              "<style>\n",
              "  .colab-df-quickchart {\n",
              "      --bg-color: #E8F0FE;\n",
              "      --fill-color: #1967D2;\n",
              "      --hover-bg-color: #E2EBFA;\n",
              "      --hover-fill-color: #174EA6;\n",
              "      --disabled-fill-color: #AAA;\n",
              "      --disabled-bg-color: #DDD;\n",
              "  }\n",
              "\n",
              "  [theme=dark] .colab-df-quickchart {\n",
              "      --bg-color: #3B4455;\n",
              "      --fill-color: #D2E3FC;\n",
              "      --hover-bg-color: #434B5C;\n",
              "      --hover-fill-color: #FFFFFF;\n",
              "      --disabled-bg-color: #3B4455;\n",
              "      --disabled-fill-color: #666;\n",
              "  }\n",
              "\n",
              "  .colab-df-quickchart {\n",
              "    background-color: var(--bg-color);\n",
              "    border: none;\n",
              "    border-radius: 50%;\n",
              "    cursor: pointer;\n",
              "    display: none;\n",
              "    fill: var(--fill-color);\n",
              "    height: 32px;\n",
              "    padding: 0;\n",
              "    width: 32px;\n",
              "  }\n",
              "\n",
              "  .colab-df-quickchart:hover {\n",
              "    background-color: var(--hover-bg-color);\n",
              "    box-shadow: 0 1px 2px rgba(60, 64, 67, 0.3), 0 1px 3px 1px rgba(60, 64, 67, 0.15);\n",
              "    fill: var(--button-hover-fill-color);\n",
              "  }\n",
              "\n",
              "  .colab-df-quickchart-complete:disabled,\n",
              "  .colab-df-quickchart-complete:disabled:hover {\n",
              "    background-color: var(--disabled-bg-color);\n",
              "    fill: var(--disabled-fill-color);\n",
              "    box-shadow: none;\n",
              "  }\n",
              "\n",
              "  .colab-df-spinner {\n",
              "    border: 2px solid var(--fill-color);\n",
              "    border-color: transparent;\n",
              "    border-bottom-color: var(--fill-color);\n",
              "    animation:\n",
              "      spin 1s steps(1) infinite;\n",
              "  }\n",
              "\n",
              "  @keyframes spin {\n",
              "    0% {\n",
              "      border-color: transparent;\n",
              "      border-bottom-color: var(--fill-color);\n",
              "      border-left-color: var(--fill-color);\n",
              "    }\n",
              "    20% {\n",
              "      border-color: transparent;\n",
              "      border-left-color: var(--fill-color);\n",
              "      border-top-color: var(--fill-color);\n",
              "    }\n",
              "    30% {\n",
              "      border-color: transparent;\n",
              "      border-left-color: var(--fill-color);\n",
              "      border-top-color: var(--fill-color);\n",
              "      border-right-color: var(--fill-color);\n",
              "    }\n",
              "    40% {\n",
              "      border-color: transparent;\n",
              "      border-right-color: var(--fill-color);\n",
              "      border-top-color: var(--fill-color);\n",
              "    }\n",
              "    60% {\n",
              "      border-color: transparent;\n",
              "      border-right-color: var(--fill-color);\n",
              "    }\n",
              "    80% {\n",
              "      border-color: transparent;\n",
              "      border-right-color: var(--fill-color);\n",
              "      border-bottom-color: var(--fill-color);\n",
              "    }\n",
              "    90% {\n",
              "      border-color: transparent;\n",
              "      border-bottom-color: var(--fill-color);\n",
              "    }\n",
              "  }\n",
              "</style>\n",
              "\n",
              "  <script>\n",
              "    async function quickchart(key) {\n",
              "      const quickchartButtonEl =\n",
              "        document.querySelector('#' + key + ' button');\n",
              "      quickchartButtonEl.disabled = true;  // To prevent multiple clicks.\n",
              "      quickchartButtonEl.classList.add('colab-df-spinner');\n",
              "      try {\n",
              "        const charts = await google.colab.kernel.invokeFunction(\n",
              "            'suggestCharts', [key], {});\n",
              "      } catch (error) {\n",
              "        console.error('Error during call to suggestCharts:', error);\n",
              "      }\n",
              "      quickchartButtonEl.classList.remove('colab-df-spinner');\n",
              "      quickchartButtonEl.classList.add('colab-df-quickchart-complete');\n",
              "    }\n",
              "    (() => {\n",
              "      let quickchartButtonEl =\n",
              "        document.querySelector('#df-8fc7665a-5dbb-456e-87e5-1a93d88dc2ed button');\n",
              "      quickchartButtonEl.style.display =\n",
              "        google.colab.kernel.accessAllowed ? 'block' : 'none';\n",
              "    })();\n",
              "  </script>\n",
              "</div>\n",
              "\n",
              "    </div>\n",
              "  </div>\n"
            ]
          },
          "metadata": {},
          "execution_count": 42
        }
      ]
    },
    {
      "cell_type": "code",
      "source": [
        "#최빈값 대체\n",
        "prediction_columns = ['rf','xgb','cat','rf2','lgb']\n",
        "\n",
        "pred_df['pred'] = pred_df[prediction_columns].mode(axis=1, dropna=False).iloc[:, 0]\n",
        "pred_df['pred'] = pred_df['pred'].astype(int)\n",
        "\n",
        "stand_blender = f1_score(pred_df['sol'], pred_df['pred'], average='macro')\n",
        "stand_blender"
      ],
      "metadata": {
        "colab": {
          "base_uri": "https://localhost:8080/"
        },
        "id": "z3cMBoTlxLpz",
        "outputId": "fe3c4a1c-55fa-4b61-d647-c13b137282b1"
      },
      "execution_count": null,
      "outputs": [
        {
          "output_type": "execute_result",
          "data": {
            "text/plain": [
              "0.920472756931719"
            ]
          },
          "metadata": {},
          "execution_count": 37
        }
      ]
    },
    {
      "cell_type": "code",
      "source": [
        "#일부제외+not hyper\n",
        "print(f'XGBoost Cross-Validation F1 Macro: {xgb_scores.mean()}')\n",
        "print(f'CatBoost Cross-Validation F1 Macro: {cat_scores.mean()}')\n",
        "print(f'Random Forest Cross-Validation F1 Macro: {rf_scores.mean()}')\n",
        "print(f'LightGBM Cross-Validation F1 Macro: {lgb_scores.mean()}\\n\\n')\n",
        "\n",
        "print(f'xgb test F1 Macro: {xgb_macro}')\n",
        "print(f'cat test F1 Macro: {cat_macro}')\n",
        "print(f'rf test F1 Macro: {rf_macro}')\n",
        "print(f'lgb test F1 Macro: {lgb_macro}')"
      ],
      "metadata": {
        "colab": {
          "base_uri": "https://localhost:8080/"
        },
        "id": "KwcSAs-QxwRu",
        "outputId": "2e19cf05-e9ef-4b09-995d-45af16381621"
      },
      "execution_count": null,
      "outputs": [
        {
          "output_type": "stream",
          "name": "stdout",
          "text": [
            "XGBoost Cross-Validation F1 Macro: 0.9157216818245895\n",
            "CatBoost Cross-Validation F1 Macro: 0.8994425726381035\n",
            "Random Forest Cross-Validation F1 Macro: 0.9228498453663916\n",
            "LightGBM Cross-Validation F1 Macro: 0.8852141716017499\n",
            "\n",
            "\n",
            "xgb test F1 Macro: 0.9123649189118959\n",
            "cat test F1 Macro: 0.8965524362362728\n",
            "rf test F1 Macro: 0.9203135360404036\n",
            "lgb test F1 Macro: 0.8593724195817858\n"
          ]
        }
      ]
    },
    {
      "cell_type": "code",
      "source": [
        "#최빈값 대체\n",
        "prediction_columns = ['rf','xgb','cat','rf2','lgb']\n",
        "\n",
        "pred_df['pred'] = pred_df[prediction_columns].mode(axis=1, dropna=False).iloc[:, 0]\n",
        "pred_df['pred'] = pred_df['pred'].astype(int)\n",
        "\n",
        "stand_blender = f1_score(pred_df['sol'], pred_df['pred'], average='macro')\n",
        "stand_blender"
      ],
      "metadata": {
        "colab": {
          "base_uri": "https://localhost:8080/"
        },
        "id": "UXIdY2TDxwPg",
        "outputId": "a05982f0-80ed-452e-e303-4beb3c46ae66"
      },
      "execution_count": null,
      "outputs": [
        {
          "output_type": "execute_result",
          "data": {
            "text/plain": [
              "0.920472756931719"
            ]
          },
          "metadata": {},
          "execution_count": 43
        }
      ]
    },
    {
      "cell_type": "markdown",
      "source": [],
      "metadata": {
        "id": "0TNPliQ807iL"
      }
    },
    {
      "cell_type": "code",
      "source": [
        "train.info()"
      ],
      "metadata": {
        "colab": {
          "base_uri": "https://localhost:8080/"
        },
        "id": "H-eFe5Jh0_8N",
        "outputId": "264ff38c-c3bc-400d-de28-b0ac6e4b2dcc"
      },
      "execution_count": null,
      "outputs": [
        {
          "output_type": "stream",
          "name": "stdout",
          "text": [
            "<class 'pandas.core.frame.DataFrame'>\n",
            "Int64Index: 96293 entries, 0 to 96293\n",
            "Data columns (total 24 columns):\n",
            " #   Column        Non-Null Count  Dtype  \n",
            "---  ------        --------------  -----  \n",
            " 0   대출금액          96293 non-null  int64  \n",
            " 1   대출기간          96293 non-null  int64  \n",
            " 2   근로기간          96293 non-null  int64  \n",
            " 3   주택소유상태        96293 non-null  int64  \n",
            " 4   연간소득          96293 non-null  int64  \n",
            " 5   부채_대비_소득_비율   96293 non-null  float64\n",
            " 6   총계좌수          96293 non-null  int64  \n",
            " 7   대출목적          96293 non-null  int64  \n",
            " 8   최근_2년간_연체_횟수  96293 non-null  int64  \n",
            " 9   총상환원금         96293 non-null  int64  \n",
            " 10  총상환이자         96293 non-null  float64\n",
            " 11  총연체금액         96293 non-null  float64\n",
            " 12  연체계좌수         96293 non-null  float64\n",
            " 13  대출등급          96293 non-null  int64  \n",
            " 14  원금/대출         96293 non-null  float64\n",
            " 15  이자/대출         96293 non-null  float64\n",
            " 16  소득/대출         96293 non-null  float64\n",
            " 17  연체계좌/총계좌      96293 non-null  float64\n",
            " 18  대출월금액         96293 non-null  float64\n",
            " 19  이자/소득         96293 non-null  float64\n",
            " 20  원금/소득         96293 non-null  float64\n",
            " 21  이자/원금         96293 non-null  float64\n",
            " 22  총상환이자**3      96293 non-null  float64\n",
            " 23  총상환원금**3      96293 non-null  int64  \n",
            "dtypes: float64(13), int64(11)\n",
            "memory usage: 18.4 MB\n"
          ]
        }
      ]
    },
    {
      "cell_type": "code",
      "source": [
        "from sklearn.model_selection import train_test_split\n",
        "X = train.drop(['대출등급','총상환원금','총상환이자','연체계좌수','총계좌수','연체계좌/총계좌','대출목적','주택소유상태'], axis=1)\n",
        "y = train['대출등급']\n",
        "X_train, X_test, y_train, y_test = train_test_split(X, y, stratify=y, test_size = 0.3, random_state = 42)"
      ],
      "metadata": {
        "id": "UueNclGZ06pD"
      },
      "execution_count": null,
      "outputs": []
    },
    {
      "cell_type": "code",
      "source": [
        "# XGBoost\n",
        "xgb_model = xgb.XGBClassifier()#objective = 'multi:softmax', eval_metric = 'logloss'\n",
        "xgb_model.fit(X_train, y_train)\n",
        "xgb_scores = cross_val_score(xgb_model, X_train, y_train, cv=kf, scoring='f1_macro')\n",
        "# print(f'XGBoost Cross-Validation F1 Macro: {xgb_scores.mean()}')\n",
        "xgb_predictions = xgb_model.predict(X_test)\n",
        "xgb_macro = f1_score(y_test, xgb_predictions, average='macro')\n",
        "# print(f'XGBoost test F1 Macro: {xgb_macro}\\n')\n",
        "\n",
        "\n",
        "# CatBoost\n",
        "cat_model = CatBoostClassifier(random_state=42, verbose=False)\n",
        "cat_model.fit(X_train, y_train)\n",
        "cat_predictions = cat_model.predict(X_test)\n",
        "cat_scores = cross_val_score(cat_model, X_train, y_train, cv=kf, scoring='f1_macro')\n",
        "# print(f'CatBoost Cross-Validation F1 Macro: {cat_scores.mean()}')\n",
        "cat_macro = f1_score(y_test, cat_predictions, average='macro')\n",
        "# print(f'Cat test F1 Macro: {cat_macro}\\n')\n",
        "\n",
        "# Random Forest\n",
        "rf_model = RandomForestClassifier(random_state=42)\n",
        "rf_model.fit(X_train, y_train)\n",
        "rf_predictions = rf_model.predict(X_test)\n",
        "rf_scores = cross_val_score(rf_model, X_train, y_train, cv=kf, scoring='f1_macro')\n",
        "# print(f'Random Forest Cross-Validation F1 Macro: {rf_scores.mean()}')\n",
        "rf_macro = f1_score(y_test, rf_predictions, average='macro')\n",
        "# print(f'RF test F1 Macro: {rf_macro}\\n')\n",
        "\n",
        "# LightGBM\n",
        "lgb_model = lgb.LGBMClassifier(random_state=42)\n",
        "lgb_model.fit(X_train, y_train)\n",
        "lgb_predictions = lgb_model.predict(X_test)\n",
        "lgb_scores = cross_val_score(lgb_model, X_train, y_train, cv=kf, scoring='f1_macro')\n",
        "# print(f'LightGBM Cross-Validation F1 Macro: {lgb_scores.mean()}')\n",
        "lgb_macro = f1_score(y_test, lgb_predictions, average='macro')\n",
        "# print(f'RF test F1 Macro: {lgb_macro}\\n')"
      ],
      "metadata": {
        "colab": {
          "base_uri": "https://localhost:8080/"
        },
        "id": "j1WOVRhM06my",
        "outputId": "fd21c5de-9e73-45d2-c688-f6577725d763"
      },
      "execution_count": null,
      "outputs": [
        {
          "output_type": "stream",
          "name": "stdout",
          "text": [
            "[LightGBM] [Info] Auto-choosing row-wise multi-threading, the overhead of testing was 0.009794 seconds.\n",
            "You can set `force_row_wise=true` to remove the overhead.\n",
            "And if memory is not enough, you can set `force_col_wise=true`.\n",
            "[LightGBM] [Info] Total Bins 3120\n",
            "[LightGBM] [Info] Number of data points in the train set: 67405, number of used features: 16\n",
            "[LightGBM] [Info] Start training from score -1.747717\n",
            "[LightGBM] [Info] Start training from score -1.206424\n",
            "[LightGBM] [Info] Start training from score -1.248802\n",
            "[LightGBM] [Info] Start training from score -1.975557\n",
            "[LightGBM] [Info] Start training from score -2.572111\n",
            "[LightGBM] [Info] Start training from score -3.897369\n",
            "[LightGBM] [Info] Start training from score -5.434895\n",
            "[LightGBM] [Info] Auto-choosing row-wise multi-threading, the overhead of testing was 0.004794 seconds.\n",
            "You can set `force_row_wise=true` to remove the overhead.\n",
            "And if memory is not enough, you can set `force_col_wise=true`.\n",
            "[LightGBM] [Info] Total Bins 3114\n",
            "[LightGBM] [Info] Number of data points in the train set: 53924, number of used features: 16\n",
            "[LightGBM] [Info] Start training from score -1.747717\n",
            "[LightGBM] [Info] Start training from score -1.206399\n",
            "[LightGBM] [Info] Start training from score -1.248802\n",
            "[LightGBM] [Info] Start training from score -1.975610\n",
            "[LightGBM] [Info] Start training from score -2.572208\n",
            "[LightGBM] [Info] Start training from score -3.897735\n",
            "[LightGBM] [Info] Start training from score -5.431499\n",
            "[LightGBM] [Info] Auto-choosing row-wise multi-threading, the overhead of testing was 0.007582 seconds.\n",
            "You can set `force_row_wise=true` to remove the overhead.\n",
            "And if memory is not enough, you can set `force_col_wise=true`.\n",
            "[LightGBM] [Info] Total Bins 3116\n",
            "[LightGBM] [Info] Number of data points in the train set: 53924, number of used features: 16\n",
            "[LightGBM] [Info] Start training from score -1.747717\n",
            "[LightGBM] [Info] Start training from score -1.206399\n",
            "[LightGBM] [Info] Start training from score -1.248802\n",
            "[LightGBM] [Info] Start training from score -1.975477\n",
            "[LightGBM] [Info] Start training from score -2.572208\n",
            "[LightGBM] [Info] Start training from score -3.897735\n",
            "[LightGBM] [Info] Start training from score -5.435745\n",
            "[LightGBM] [Info] Auto-choosing row-wise multi-threading, the overhead of testing was 0.007692 seconds.\n",
            "You can set `force_row_wise=true` to remove the overhead.\n",
            "And if memory is not enough, you can set `force_col_wise=true`.\n",
            "[LightGBM] [Info] Total Bins 3112\n",
            "[LightGBM] [Info] Number of data points in the train set: 53924, number of used features: 16\n",
            "[LightGBM] [Info] Start training from score -1.747717\n",
            "[LightGBM] [Info] Start training from score -1.206399\n",
            "[LightGBM] [Info] Start training from score -1.248802\n",
            "[LightGBM] [Info] Start training from score -1.975477\n",
            "[LightGBM] [Info] Start training from score -2.572208\n",
            "[LightGBM] [Info] Start training from score -3.897735\n",
            "[LightGBM] [Info] Start training from score -5.435745\n",
            "[LightGBM] [Info] Auto-choosing row-wise multi-threading, the overhead of testing was 0.005010 seconds.\n",
            "You can set `force_row_wise=true` to remove the overhead.\n",
            "And if memory is not enough, you can set `force_col_wise=true`.\n",
            "[LightGBM] [Info] Total Bins 3115\n",
            "[LightGBM] [Info] Number of data points in the train set: 53924, number of used features: 16\n",
            "[LightGBM] [Info] Start training from score -1.747717\n",
            "[LightGBM] [Info] Start training from score -1.206461\n",
            "[LightGBM] [Info] Start training from score -1.248802\n",
            "[LightGBM] [Info] Start training from score -1.975610\n",
            "[LightGBM] [Info] Start training from score -2.571965\n",
            "[LightGBM] [Info] Start training from score -3.896821\n",
            "[LightGBM] [Info] Start training from score -5.435745\n",
            "[LightGBM] [Info] Auto-choosing row-wise multi-threading, the overhead of testing was 0.004809 seconds.\n",
            "You can set `force_row_wise=true` to remove the overhead.\n",
            "And if memory is not enough, you can set `force_col_wise=true`.\n",
            "[LightGBM] [Info] Total Bins 3115\n",
            "[LightGBM] [Info] Number of data points in the train set: 53924, number of used features: 16\n",
            "[LightGBM] [Info] Start training from score -1.747717\n",
            "[LightGBM] [Info] Start training from score -1.206461\n",
            "[LightGBM] [Info] Start training from score -1.248802\n",
            "[LightGBM] [Info] Start training from score -1.975610\n",
            "[LightGBM] [Info] Start training from score -2.571965\n",
            "[LightGBM] [Info] Start training from score -3.896821\n",
            "[LightGBM] [Info] Start training from score -5.435745\n"
          ]
        }
      ]
    },
    {
      "cell_type": "code",
      "source": [
        "#except '대출등급','총상환원금','총상환이자','연체계좌수','총계좌수','연체계좌/총계좌','대출목적','주택소유상태'\n",
        "print(f'XGBoost Cross-Validation F1 Macro: {xgb_scores.mean()}')\n",
        "print(f'CatBoost Cross-Validation F1 Macro: {cat_scores.mean()}')\n",
        "print(f'Random Forest Cross-Validation F1 Macro: {rf_scores.mean()}')\n",
        "print(f'LightGBM Cross-Validation F1 Macro: {lgb_scores.mean()}\\n\\n')\n",
        "\n",
        "print(f'xgb test F1 Macro: {xgb_macro}')\n",
        "print(f'cat test F1 Macro: {cat_macro}')\n",
        "print(f'rf test F1 Macro: {rf_macro}')\n",
        "print(f'lgb test F1 Macro: {lgb_macro}')"
      ],
      "metadata": {
        "colab": {
          "base_uri": "https://localhost:8080/"
        },
        "id": "FEj0LFMg1izm",
        "outputId": "5dbcc576-91b3-4939-a5e3-924aa2361b76"
      },
      "execution_count": null,
      "outputs": [
        {
          "output_type": "stream",
          "name": "stdout",
          "text": [
            "XGBoost Cross-Validation F1 Macro: 0.9152499520119942\n",
            "CatBoost Cross-Validation F1 Macro: 0.901147132777371\n",
            "Random Forest Cross-Validation F1 Macro: 0.9240424254757768\n",
            "LightGBM Cross-Validation F1 Macro: 0.8771453346090201\n",
            "\n",
            "\n",
            "xgb test F1 Macro: 0.9141769619691862\n",
            "cat test F1 Macro: 0.8980736580985142\n",
            "rf test F1 Macro: 0.923100297885857\n",
            "lgb test F1 Macro: 0.879022024127868\n"
          ]
        }
      ]
    },
    {
      "cell_type": "code",
      "source": [
        "cat_predictions_flat = np.ravel(cat_predictions)\n",
        "data = {\n",
        "    'rf': rf_predictions,\n",
        "    'xgb': xgb_predictions,\n",
        "    'cat': cat_predictions_flat,\n",
        "    'lgb': lgb_predictions,\n",
        "    'sol': y_test\n",
        "\n",
        "}\n",
        "pred_df = pd.DataFrame(data)"
      ],
      "metadata": {
        "id": "1_5U16Mb1qoF"
      },
      "execution_count": null,
      "outputs": []
    },
    {
      "cell_type": "code",
      "source": [
        "#최빈값 대체\n",
        "prediction_columns = ['rf','xgb','cat','lgb']\n",
        "\n",
        "pred_df['pred'] = pred_df[prediction_columns].mode(axis=1, dropna=False).iloc[:, 0]\n",
        "pred_df['pred'] = pred_df['pred'].astype(int)\n",
        "\n",
        "stand_blender = f1_score(pred_df['sol'], pred_df['pred'], average='macro')\n",
        "stand_blender"
      ],
      "metadata": {
        "colab": {
          "base_uri": "https://localhost:8080/"
        },
        "id": "AnfTj8ml1unb",
        "outputId": "0177e3a6-193e-4e92-b3b2-61b68ac6cb6e"
      },
      "execution_count": null,
      "outputs": [
        {
          "output_type": "execute_result",
          "data": {
            "text/plain": [
              "0.919263900706407"
            ]
          },
          "metadata": {},
          "execution_count": 49
        }
      ]
    },
    {
      "cell_type": "code",
      "source": [
        "pred_df['rf2'] = pred_df['rf']\n",
        "\n",
        "#최빈값 대체\n",
        "prediction_columns = ['rf','xgb','cat','lgb','rf2']\n",
        "\n",
        "pred_df['pred'] = pred_df[prediction_columns].mode(axis=1, dropna=False).iloc[:, 0]\n",
        "pred_df['pred'] = pred_df['pred'].astype(int)\n",
        "\n",
        "stand_blender = f1_score(pred_df['sol'], pred_df['pred'], average='macro')\n",
        "stand_blender"
      ],
      "metadata": {
        "colab": {
          "base_uri": "https://localhost:8080/"
        },
        "id": "JfbCin4w4Kvi",
        "outputId": "9f6abdca-04fc-4d4d-a5cb-16d77e32f936"
      },
      "execution_count": null,
      "outputs": [
        {
          "output_type": "execute_result",
          "data": {
            "text/plain": [
              "0.9228846868917403"
            ]
          },
          "metadata": {},
          "execution_count": 50
        }
      ]
    },
    {
      "cell_type": "code",
      "source": [
        "test = test[['대출금액', '대출기간', '근로기간', '연간소득', '부채_대비_소득_비율', '최근_2년간_연체_횟수', '총연체금액', '원금/대출', '이자/대출', '소득/대출', '대출월금액', '이자/소득', '원금/소득', '이자/원금', '총상환이자**3', '총상환원금**3']]"
      ],
      "metadata": {
        "id": "CIwkQ1xY6ByV"
      },
      "execution_count": null,
      "outputs": []
    },
    {
      "cell_type": "code",
      "source": [
        "xgb_pred = xgb_model.predict(test)\n",
        "cat_pred = cat_model.predict(test)\n",
        "rf_pred = rf_model.predict(test)\n",
        "lgb_pred = lgb_model.predict(test)"
      ],
      "metadata": {
        "id": "b8liKZOJ5-vA"
      },
      "execution_count": null,
      "outputs": []
    },
    {
      "cell_type": "code",
      "source": [
        "cat_predictions_flat = np.ravel(cat_pred)\n",
        "data = {\n",
        "    'rf': rf_pred,\n",
        "    'xgb': xgb_pred,\n",
        "    'cat': cat_predictions_flat,\n",
        "    'lgb': lgb_pred,\n",
        "    'rf2': rf_pred,\n",
        "}\n",
        "pred_blender = pd.DataFrame(data)"
      ],
      "metadata": {
        "id": "J7hPgHCj6JaP"
      },
      "execution_count": null,
      "outputs": []
    },
    {
      "cell_type": "code",
      "source": [
        "#최빈값 대체\n",
        "prediction_columns = ['rf','xgb', 'cat', 'rf2', 'lgb']\n",
        "\n",
        "pred_blender['pred'] = pred_blender[prediction_columns].mode(axis=1, dropna=False).iloc[:, 0]\n",
        "pred_blender['pred'] = pred_blender['pred'].astype(int)"
      ],
      "metadata": {
        "id": "4B9GvGP46PNB"
      },
      "execution_count": null,
      "outputs": []
    },
    {
      "cell_type": "code",
      "source": [
        "sub['대출등급'] = pred_blender['pred']\n",
        "sub['대출등급'] = sub['대출등급'].map({0: 'A', 1: 'B', 2: 'C',3: 'D',4: 'E',5: 'F',6: 'G'})\n",
        "sub.head()"
      ],
      "metadata": {
        "id": "PGNUDXEQ6Y3-"
      },
      "execution_count": null,
      "outputs": []
    },
    {
      "cell_type": "code",
      "source": [
        "sub.to_csv('2rf_except_col.csv',index=False)"
      ],
      "metadata": {
        "id": "BRSAgub76dWT"
      },
      "execution_count": null,
      "outputs": []
    },
    {
      "cell_type": "code",
      "source": [
        "sub['대출등급'] = pred_blender['rf']\n",
        "sub['대출등급'] = sub['대출등급'].map({0: 'A', 1: 'B', 2: 'C',3: 'D',4: 'E',5: 'F',6: 'G'})\n",
        "sub.to_csv('rf_except_col.csv',index=False)"
      ],
      "metadata": {
        "id": "AeNGuckX6mHg"
      },
      "execution_count": null,
      "outputs": []
    }
  ]
}