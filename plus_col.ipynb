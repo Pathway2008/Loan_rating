{
  "nbformat": 4,
  "nbformat_minor": 0,
  "metadata": {
    "colab": {
      "provenance": [],
      "mount_file_id": "1bXE1Z8coik1lVpztD4euy_ZRw9uhumr5",
      "authorship_tag": "ABX9TyML81MCvj1jXXh5B3v5Z7Vi",
      "include_colab_link": true
    },
    "kernelspec": {
      "name": "python3",
      "display_name": "Python 3"
    },
    "language_info": {
      "name": "python"
    }
  },
  "cells": [
    {
      "cell_type": "markdown",
      "metadata": {
        "id": "view-in-github",
        "colab_type": "text"
      },
      "source": [
        "<a href=\"https://colab.research.google.com/github/Pathway2008/Loan_rating/blob/main/plus_col.ipynb\" target=\"_parent\"><img src=\"https://colab.research.google.com/assets/colab-badge.svg\" alt=\"Open In Colab\"/></a>"
      ]
    },
    {
      "cell_type": "code",
      "execution_count": 44,
      "metadata": {
        "id": "GV1ZnU1osp90"
      },
      "outputs": [],
      "source": [
        "import pandas as pd\n",
        "import numpy as np\n",
        "train = pd.read_csv('/content/drive/MyDrive/loan_rating/train.csv')\n",
        "test = pd.read_csv('/content/drive/MyDrive/loan_rating/test.csv')\n",
        "sub = pd.read_csv('/content/drive/MyDrive/loan_rating/sample_submission.csv')"
      ]
    },
    {
      "cell_type": "code",
      "source": [
        "train.drop(['ID'],axis=1,inplace=True)"
      ],
      "metadata": {
        "id": "miODFssvsydD"
      },
      "execution_count": 45,
      "outputs": []
    },
    {
      "cell_type": "code",
      "source": [
        "train = train[train['주택소유상태'] != 'ANY']\n",
        "train['근로기간'] = train['근로기간'].replace('< 1 year', '<1 year')\n",
        "train['근로기간'] = train['근로기간'].replace('1 year', '1 years')\n",
        "train['근로기간'] = train['근로기간'].replace('3', '3 years')\n",
        "train['근로기간'] = train['근로기간'].replace('10+years', '10+ years')"
      ],
      "metadata": {
        "id": "oWhGqefusybG"
      },
      "execution_count": null,
      "outputs": []
    },
    {
      "cell_type": "code",
      "source": [
        "test['근로기간'] = test['근로기간'].replace('< 1 year', '<1 year')\n",
        "test['근로기간'] = test['근로기간'].replace('1 year', '1 years')\n",
        "test['근로기간'] = test['근로기간'].replace('3', '3 years')\n",
        "test['근로기간'] = test['근로기간'].replace('10+years', '10+ years')"
      ],
      "metadata": {
        "id": "mfL24ZfnpJHP"
      },
      "execution_count": null,
      "outputs": []
    },
    {
      "cell_type": "code",
      "source": [
        "train.info()"
      ],
      "metadata": {
        "colab": {
          "base_uri": "https://localhost:8080/"
        },
        "id": "oSxOSFOC_95h",
        "outputId": "3ac0e926-c96a-4547-c344-a7ef3f175b37"
      },
      "execution_count": 113,
      "outputs": [
        {
          "output_type": "stream",
          "name": "stdout",
          "text": [
            "<class 'pandas.core.frame.DataFrame'>\n",
            "Int64Index: 96293 entries, 0 to 96293\n",
            "Data columns (total 22 columns):\n",
            " #   Column        Non-Null Count  Dtype  \n",
            "---  ------        --------------  -----  \n",
            " 0   대출금액          96293 non-null  int64  \n",
            " 1   대출기간          96293 non-null  int64  \n",
            " 2   근로기간          96293 non-null  int64  \n",
            " 3   주택소유상태        96293 non-null  int64  \n",
            " 4   연간소득          96293 non-null  int64  \n",
            " 5   부채_대비_소득_비율   96293 non-null  float64\n",
            " 6   총계좌수          96293 non-null  int64  \n",
            " 7   대출목적          96293 non-null  int64  \n",
            " 8   최근_2년간_연체_횟수  96293 non-null  int64  \n",
            " 9   총상환원금         96293 non-null  int64  \n",
            " 10  총상환이자         96293 non-null  float64\n",
            " 11  총연체금액         96293 non-null  float64\n",
            " 12  연체계좌수         96293 non-null  float64\n",
            " 13  대출등급          96293 non-null  int64  \n",
            " 14  원금/대출         96293 non-null  float64\n",
            " 15  이자/대출         96293 non-null  float64\n",
            " 16  대출월금액         96293 non-null  float64\n",
            " 17  소득/대출         96293 non-null  float64\n",
            " 18  이자/소득         96293 non-null  float64\n",
            " 19  원금/소득         96293 non-null  float64\n",
            " 20  이자/원금         96293 non-null  float64\n",
            " 21  연체계좌/총계좌      96293 non-null  float64\n",
            "dtypes: float64(12), int64(10)\n",
            "memory usage: 16.9 MB\n"
          ]
        }
      ]
    },
    {
      "cell_type": "code",
      "source": [
        "train['원금/대출'] = train['총상환원금']/train['대출금액']\n",
        "train['이자/대출'] = train['총상환이자']/train['대출금액']"
      ],
      "metadata": {
        "id": "PrD5ESInufLa"
      },
      "execution_count": 75,
      "outputs": []
    },
    {
      "cell_type": "code",
      "source": [
        "train.head()"
      ],
      "metadata": {
        "colab": {
          "base_uri": "https://localhost:8080/",
          "height": 429
        },
        "id": "GgATWIlZt8m3",
        "outputId": "846e1f50-6516-4039-c77b-70ca1b8522aa"
      },
      "execution_count": 112,
      "outputs": [
        {
          "output_type": "execute_result",
          "data": {
            "text/plain": [
              "       대출금액  대출기간  근로기간  주택소유상태       연간소득  부채_대비_소득_비율  총계좌수  대출목적  \\\n",
              "0  12480000     0     6       2   72000000        18.90    15     1   \n",
              "1  14400000     1     1       0  130800000        22.33    21    10   \n",
              "2  12000000     0     5       0   96000000         8.60    14     1   \n",
              "3  14400000     0     8       0  132000000        15.09    15     1   \n",
              "4  18000000     1    11       2   71736000        25.39    19     8   \n",
              "\n",
              "   최근_2년간_연체_횟수   총상환원금  ...  연체계좌수  대출등급     원금/대출     이자/대출          대출월금액  \\\n",
              "0             0       0  ...    0.0     2  0.000000  0.000000  346666.666667   \n",
              "1             0  373572  ...    0.0     1  0.025943  0.016254  240000.000000   \n",
              "2             0  928644  ...    0.0     0  0.077387  0.012662  333333.333333   \n",
              "3             0  325824  ...    0.0     2  0.022627  0.010632  400000.000000   \n",
              "4             0  228540  ...    0.0     1  0.012697  0.008275  300000.000000   \n",
              "\n",
              "      소득/대출     이자/소득     원금/소득     이자/원금  연체계좌/총계좌  \n",
              "0  5.769231  0.000000  0.000000  0.000000       0.0  \n",
              "1  9.083333  0.001789  0.002856  0.626546       0.0  \n",
              "2  8.000000  0.001583  0.009673  0.163619       0.0  \n",
              "3  9.166667  0.001160  0.002468  0.469910       0.0  \n",
              "4  3.985333  0.002076  0.003186  0.651772       0.0  \n",
              "\n",
              "[5 rows x 22 columns]"
            ],
            "text/html": [
              "\n",
              "  <div id=\"df-25c7ccc5-c725-4d63-a704-9eeb65dc70e8\" class=\"colab-df-container\">\n",
              "    <div>\n",
              "<style scoped>\n",
              "    .dataframe tbody tr th:only-of-type {\n",
              "        vertical-align: middle;\n",
              "    }\n",
              "\n",
              "    .dataframe tbody tr th {\n",
              "        vertical-align: top;\n",
              "    }\n",
              "\n",
              "    .dataframe thead th {\n",
              "        text-align: right;\n",
              "    }\n",
              "</style>\n",
              "<table border=\"1\" class=\"dataframe\">\n",
              "  <thead>\n",
              "    <tr style=\"text-align: right;\">\n",
              "      <th></th>\n",
              "      <th>대출금액</th>\n",
              "      <th>대출기간</th>\n",
              "      <th>근로기간</th>\n",
              "      <th>주택소유상태</th>\n",
              "      <th>연간소득</th>\n",
              "      <th>부채_대비_소득_비율</th>\n",
              "      <th>총계좌수</th>\n",
              "      <th>대출목적</th>\n",
              "      <th>최근_2년간_연체_횟수</th>\n",
              "      <th>총상환원금</th>\n",
              "      <th>...</th>\n",
              "      <th>연체계좌수</th>\n",
              "      <th>대출등급</th>\n",
              "      <th>원금/대출</th>\n",
              "      <th>이자/대출</th>\n",
              "      <th>대출월금액</th>\n",
              "      <th>소득/대출</th>\n",
              "      <th>이자/소득</th>\n",
              "      <th>원금/소득</th>\n",
              "      <th>이자/원금</th>\n",
              "      <th>연체계좌/총계좌</th>\n",
              "    </tr>\n",
              "  </thead>\n",
              "  <tbody>\n",
              "    <tr>\n",
              "      <th>0</th>\n",
              "      <td>12480000</td>\n",
              "      <td>0</td>\n",
              "      <td>6</td>\n",
              "      <td>2</td>\n",
              "      <td>72000000</td>\n",
              "      <td>18.90</td>\n",
              "      <td>15</td>\n",
              "      <td>1</td>\n",
              "      <td>0</td>\n",
              "      <td>0</td>\n",
              "      <td>...</td>\n",
              "      <td>0.0</td>\n",
              "      <td>2</td>\n",
              "      <td>0.000000</td>\n",
              "      <td>0.000000</td>\n",
              "      <td>346666.666667</td>\n",
              "      <td>5.769231</td>\n",
              "      <td>0.000000</td>\n",
              "      <td>0.000000</td>\n",
              "      <td>0.000000</td>\n",
              "      <td>0.0</td>\n",
              "    </tr>\n",
              "    <tr>\n",
              "      <th>1</th>\n",
              "      <td>14400000</td>\n",
              "      <td>1</td>\n",
              "      <td>1</td>\n",
              "      <td>0</td>\n",
              "      <td>130800000</td>\n",
              "      <td>22.33</td>\n",
              "      <td>21</td>\n",
              "      <td>10</td>\n",
              "      <td>0</td>\n",
              "      <td>373572</td>\n",
              "      <td>...</td>\n",
              "      <td>0.0</td>\n",
              "      <td>1</td>\n",
              "      <td>0.025943</td>\n",
              "      <td>0.016254</td>\n",
              "      <td>240000.000000</td>\n",
              "      <td>9.083333</td>\n",
              "      <td>0.001789</td>\n",
              "      <td>0.002856</td>\n",
              "      <td>0.626546</td>\n",
              "      <td>0.0</td>\n",
              "    </tr>\n",
              "    <tr>\n",
              "      <th>2</th>\n",
              "      <td>12000000</td>\n",
              "      <td>0</td>\n",
              "      <td>5</td>\n",
              "      <td>0</td>\n",
              "      <td>96000000</td>\n",
              "      <td>8.60</td>\n",
              "      <td>14</td>\n",
              "      <td>1</td>\n",
              "      <td>0</td>\n",
              "      <td>928644</td>\n",
              "      <td>...</td>\n",
              "      <td>0.0</td>\n",
              "      <td>0</td>\n",
              "      <td>0.077387</td>\n",
              "      <td>0.012662</td>\n",
              "      <td>333333.333333</td>\n",
              "      <td>8.000000</td>\n",
              "      <td>0.001583</td>\n",
              "      <td>0.009673</td>\n",
              "      <td>0.163619</td>\n",
              "      <td>0.0</td>\n",
              "    </tr>\n",
              "    <tr>\n",
              "      <th>3</th>\n",
              "      <td>14400000</td>\n",
              "      <td>0</td>\n",
              "      <td>8</td>\n",
              "      <td>0</td>\n",
              "      <td>132000000</td>\n",
              "      <td>15.09</td>\n",
              "      <td>15</td>\n",
              "      <td>1</td>\n",
              "      <td>0</td>\n",
              "      <td>325824</td>\n",
              "      <td>...</td>\n",
              "      <td>0.0</td>\n",
              "      <td>2</td>\n",
              "      <td>0.022627</td>\n",
              "      <td>0.010632</td>\n",
              "      <td>400000.000000</td>\n",
              "      <td>9.166667</td>\n",
              "      <td>0.001160</td>\n",
              "      <td>0.002468</td>\n",
              "      <td>0.469910</td>\n",
              "      <td>0.0</td>\n",
              "    </tr>\n",
              "    <tr>\n",
              "      <th>4</th>\n",
              "      <td>18000000</td>\n",
              "      <td>1</td>\n",
              "      <td>11</td>\n",
              "      <td>2</td>\n",
              "      <td>71736000</td>\n",
              "      <td>25.39</td>\n",
              "      <td>19</td>\n",
              "      <td>8</td>\n",
              "      <td>0</td>\n",
              "      <td>228540</td>\n",
              "      <td>...</td>\n",
              "      <td>0.0</td>\n",
              "      <td>1</td>\n",
              "      <td>0.012697</td>\n",
              "      <td>0.008275</td>\n",
              "      <td>300000.000000</td>\n",
              "      <td>3.985333</td>\n",
              "      <td>0.002076</td>\n",
              "      <td>0.003186</td>\n",
              "      <td>0.651772</td>\n",
              "      <td>0.0</td>\n",
              "    </tr>\n",
              "  </tbody>\n",
              "</table>\n",
              "<p>5 rows × 22 columns</p>\n",
              "</div>\n",
              "    <div class=\"colab-df-buttons\">\n",
              "\n",
              "  <div class=\"colab-df-container\">\n",
              "    <button class=\"colab-df-convert\" onclick=\"convertToInteractive('df-25c7ccc5-c725-4d63-a704-9eeb65dc70e8')\"\n",
              "            title=\"Convert this dataframe to an interactive table.\"\n",
              "            style=\"display:none;\">\n",
              "\n",
              "  <svg xmlns=\"http://www.w3.org/2000/svg\" height=\"24px\" viewBox=\"0 -960 960 960\">\n",
              "    <path d=\"M120-120v-720h720v720H120Zm60-500h600v-160H180v160Zm220 220h160v-160H400v160Zm0 220h160v-160H400v160ZM180-400h160v-160H180v160Zm440 0h160v-160H620v160ZM180-180h160v-160H180v160Zm440 0h160v-160H620v160Z\"/>\n",
              "  </svg>\n",
              "    </button>\n",
              "\n",
              "  <style>\n",
              "    .colab-df-container {\n",
              "      display:flex;\n",
              "      gap: 12px;\n",
              "    }\n",
              "\n",
              "    .colab-df-convert {\n",
              "      background-color: #E8F0FE;\n",
              "      border: none;\n",
              "      border-radius: 50%;\n",
              "      cursor: pointer;\n",
              "      display: none;\n",
              "      fill: #1967D2;\n",
              "      height: 32px;\n",
              "      padding: 0 0 0 0;\n",
              "      width: 32px;\n",
              "    }\n",
              "\n",
              "    .colab-df-convert:hover {\n",
              "      background-color: #E2EBFA;\n",
              "      box-shadow: 0px 1px 2px rgba(60, 64, 67, 0.3), 0px 1px 3px 1px rgba(60, 64, 67, 0.15);\n",
              "      fill: #174EA6;\n",
              "    }\n",
              "\n",
              "    .colab-df-buttons div {\n",
              "      margin-bottom: 4px;\n",
              "    }\n",
              "\n",
              "    [theme=dark] .colab-df-convert {\n",
              "      background-color: #3B4455;\n",
              "      fill: #D2E3FC;\n",
              "    }\n",
              "\n",
              "    [theme=dark] .colab-df-convert:hover {\n",
              "      background-color: #434B5C;\n",
              "      box-shadow: 0px 1px 3px 1px rgba(0, 0, 0, 0.15);\n",
              "      filter: drop-shadow(0px 1px 2px rgba(0, 0, 0, 0.3));\n",
              "      fill: #FFFFFF;\n",
              "    }\n",
              "  </style>\n",
              "\n",
              "    <script>\n",
              "      const buttonEl =\n",
              "        document.querySelector('#df-25c7ccc5-c725-4d63-a704-9eeb65dc70e8 button.colab-df-convert');\n",
              "      buttonEl.style.display =\n",
              "        google.colab.kernel.accessAllowed ? 'block' : 'none';\n",
              "\n",
              "      async function convertToInteractive(key) {\n",
              "        const element = document.querySelector('#df-25c7ccc5-c725-4d63-a704-9eeb65dc70e8');\n",
              "        const dataTable =\n",
              "          await google.colab.kernel.invokeFunction('convertToInteractive',\n",
              "                                                    [key], {});\n",
              "        if (!dataTable) return;\n",
              "\n",
              "        const docLinkHtml = 'Like what you see? Visit the ' +\n",
              "          '<a target=\"_blank\" href=https://colab.research.google.com/notebooks/data_table.ipynb>data table notebook</a>'\n",
              "          + ' to learn more about interactive tables.';\n",
              "        element.innerHTML = '';\n",
              "        dataTable['output_type'] = 'display_data';\n",
              "        await google.colab.output.renderOutput(dataTable, element);\n",
              "        const docLink = document.createElement('div');\n",
              "        docLink.innerHTML = docLinkHtml;\n",
              "        element.appendChild(docLink);\n",
              "      }\n",
              "    </script>\n",
              "  </div>\n",
              "\n",
              "\n",
              "<div id=\"df-9aa6b209-bfaa-4b45-880d-521a9f7f1f4c\">\n",
              "  <button class=\"colab-df-quickchart\" onclick=\"quickchart('df-9aa6b209-bfaa-4b45-880d-521a9f7f1f4c')\"\n",
              "            title=\"Suggest charts\"\n",
              "            style=\"display:none;\">\n",
              "\n",
              "<svg xmlns=\"http://www.w3.org/2000/svg\" height=\"24px\"viewBox=\"0 0 24 24\"\n",
              "     width=\"24px\">\n",
              "    <g>\n",
              "        <path d=\"M19 3H5c-1.1 0-2 .9-2 2v14c0 1.1.9 2 2 2h14c1.1 0 2-.9 2-2V5c0-1.1-.9-2-2-2zM9 17H7v-7h2v7zm4 0h-2V7h2v10zm4 0h-2v-4h2v4z\"/>\n",
              "    </g>\n",
              "</svg>\n",
              "  </button>\n",
              "\n",
              "<style>\n",
              "  .colab-df-quickchart {\n",
              "      --bg-color: #E8F0FE;\n",
              "      --fill-color: #1967D2;\n",
              "      --hover-bg-color: #E2EBFA;\n",
              "      --hover-fill-color: #174EA6;\n",
              "      --disabled-fill-color: #AAA;\n",
              "      --disabled-bg-color: #DDD;\n",
              "  }\n",
              "\n",
              "  [theme=dark] .colab-df-quickchart {\n",
              "      --bg-color: #3B4455;\n",
              "      --fill-color: #D2E3FC;\n",
              "      --hover-bg-color: #434B5C;\n",
              "      --hover-fill-color: #FFFFFF;\n",
              "      --disabled-bg-color: #3B4455;\n",
              "      --disabled-fill-color: #666;\n",
              "  }\n",
              "\n",
              "  .colab-df-quickchart {\n",
              "    background-color: var(--bg-color);\n",
              "    border: none;\n",
              "    border-radius: 50%;\n",
              "    cursor: pointer;\n",
              "    display: none;\n",
              "    fill: var(--fill-color);\n",
              "    height: 32px;\n",
              "    padding: 0;\n",
              "    width: 32px;\n",
              "  }\n",
              "\n",
              "  .colab-df-quickchart:hover {\n",
              "    background-color: var(--hover-bg-color);\n",
              "    box-shadow: 0 1px 2px rgba(60, 64, 67, 0.3), 0 1px 3px 1px rgba(60, 64, 67, 0.15);\n",
              "    fill: var(--button-hover-fill-color);\n",
              "  }\n",
              "\n",
              "  .colab-df-quickchart-complete:disabled,\n",
              "  .colab-df-quickchart-complete:disabled:hover {\n",
              "    background-color: var(--disabled-bg-color);\n",
              "    fill: var(--disabled-fill-color);\n",
              "    box-shadow: none;\n",
              "  }\n",
              "\n",
              "  .colab-df-spinner {\n",
              "    border: 2px solid var(--fill-color);\n",
              "    border-color: transparent;\n",
              "    border-bottom-color: var(--fill-color);\n",
              "    animation:\n",
              "      spin 1s steps(1) infinite;\n",
              "  }\n",
              "\n",
              "  @keyframes spin {\n",
              "    0% {\n",
              "      border-color: transparent;\n",
              "      border-bottom-color: var(--fill-color);\n",
              "      border-left-color: var(--fill-color);\n",
              "    }\n",
              "    20% {\n",
              "      border-color: transparent;\n",
              "      border-left-color: var(--fill-color);\n",
              "      border-top-color: var(--fill-color);\n",
              "    }\n",
              "    30% {\n",
              "      border-color: transparent;\n",
              "      border-left-color: var(--fill-color);\n",
              "      border-top-color: var(--fill-color);\n",
              "      border-right-color: var(--fill-color);\n",
              "    }\n",
              "    40% {\n",
              "      border-color: transparent;\n",
              "      border-right-color: var(--fill-color);\n",
              "      border-top-color: var(--fill-color);\n",
              "    }\n",
              "    60% {\n",
              "      border-color: transparent;\n",
              "      border-right-color: var(--fill-color);\n",
              "    }\n",
              "    80% {\n",
              "      border-color: transparent;\n",
              "      border-right-color: var(--fill-color);\n",
              "      border-bottom-color: var(--fill-color);\n",
              "    }\n",
              "    90% {\n",
              "      border-color: transparent;\n",
              "      border-bottom-color: var(--fill-color);\n",
              "    }\n",
              "  }\n",
              "</style>\n",
              "\n",
              "  <script>\n",
              "    async function quickchart(key) {\n",
              "      const quickchartButtonEl =\n",
              "        document.querySelector('#' + key + ' button');\n",
              "      quickchartButtonEl.disabled = true;  // To prevent multiple clicks.\n",
              "      quickchartButtonEl.classList.add('colab-df-spinner');\n",
              "      try {\n",
              "        const charts = await google.colab.kernel.invokeFunction(\n",
              "            'suggestCharts', [key], {});\n",
              "      } catch (error) {\n",
              "        console.error('Error during call to suggestCharts:', error);\n",
              "      }\n",
              "      quickchartButtonEl.classList.remove('colab-df-spinner');\n",
              "      quickchartButtonEl.classList.add('colab-df-quickchart-complete');\n",
              "    }\n",
              "    (() => {\n",
              "      let quickchartButtonEl =\n",
              "        document.querySelector('#df-9aa6b209-bfaa-4b45-880d-521a9f7f1f4c button');\n",
              "      quickchartButtonEl.style.display =\n",
              "        google.colab.kernel.accessAllowed ? 'block' : 'none';\n",
              "    })();\n",
              "  </script>\n",
              "</div>\n",
              "\n",
              "    </div>\n",
              "  </div>\n"
            ]
          },
          "metadata": {},
          "execution_count": 112
        }
      ]
    },
    {
      "cell_type": "code",
      "source": [
        "train['대출월금액'] = train.apply(lambda row: row['대출금액'] / 36 if row['대출기간'] == 0 else row['대출금액'] / 60, axis=1)"
      ],
      "metadata": {
        "id": "IXjl27U2_kVX"
      },
      "execution_count": 83,
      "outputs": []
    },
    {
      "cell_type": "code",
      "source": [
        "train['소득/대출'] = train['연간소득'] / train['대출금액']"
      ],
      "metadata": {
        "id": "HFMz0Z5b0_oE"
      },
      "execution_count": 72,
      "outputs": []
    },
    {
      "cell_type": "code",
      "source": [
        "train['이자/소득'] = train.apply(lambda row: row['총상환이자'] / row['연간소득'] if row['연간소득'] != 0 else 0, axis=1)\n",
        "train['원금/소득'] = train.apply(lambda row: row['총상환원금'] / row['연간소득'] if row['연간소득'] != 0 else 0, axis=1)"
      ],
      "metadata": {
        "id": "gYqiZXeD7ERz"
      },
      "execution_count": 131,
      "outputs": []
    },
    {
      "cell_type": "code",
      "source": [
        "train['이자/원금'] = train.apply(lambda row: row['총상환이자'] / row['총상환원금'] if row['총상환원금'] != 0 else 0, axis=1)"
      ],
      "metadata": {
        "id": "dWpErTHN98G-"
      },
      "execution_count": 96,
      "outputs": []
    },
    {
      "cell_type": "code",
      "source": [
        "train['연체계좌/총계좌'] = train['연체계좌수'] / train['총계좌수']"
      ],
      "metadata": {
        "id": "G2Eu_EEnbzDw"
      },
      "execution_count": 111,
      "outputs": []
    },
    {
      "cell_type": "code",
      "source": [
        "test['원금/대출'] = test['총상환원금'] / test['대출금액']\n",
        "test['이자/대출'] = test['총상환이자'] / test['대출금액']\n",
        "test['대출월금액'] = test.apply(lambda row: row['대출금액'] / 36 if row['대출기간'] == 0 else row['대출금액'] / 60, axis=1)\n",
        "test['소득/대출'] = test['연간소득'] / test['대출금액']\n",
        "test['이자/소득'] = test.apply(lambda row: row['총상환이자'] / row['연간소득'] if row['연간소득'] != 0 else 0, axis=1)\n",
        "test['원금/소득'] = test.apply(lambda row: row['총상환원금'] / row['연간소득'] if row['연간소득'] != 0 else 0, axis=1)\n",
        "test['이자/원금'] = test.apply(lambda row: row['총상환이자'] / row['총상환원금'] if row['총상환원금'] != 0 else 0, axis=1)\n",
        "test['연체계좌/총계좌'] = test['연체계좌수'] / test['총계좌수']"
      ],
      "metadata": {
        "id": "jUKa9iZapwYw"
      },
      "execution_count": null,
      "outputs": []
    },
    {
      "cell_type": "code",
      "source": [
        "from sklearn.preprocessing import LabelEncoder\n",
        "ordinal_features = ['대출기간', '근로기간', '주택소유상태','대출목적']\n",
        "\n",
        "for feature in ordinal_features:\n",
        "    le = LabelEncoder()\n",
        "    le = le.fit(train[feature])\n",
        "    train[feature] = le.transform(train[feature])\n",
        "\n",
        "    for label in np.unique(test[feature]):\n",
        "        if label not in le.classes_:\n",
        "            le.classes_ = np.append(le.classes_, label)\n",
        "    test[feature] = le.transform(test[feature])"
      ],
      "metadata": {
        "id": "WRgqOkJ8t734"
      },
      "execution_count": 66,
      "outputs": []
    },
    {
      "cell_type": "code",
      "source": [
        "train['대출등급'] = le.fit_transform(train['대출등급'])"
      ],
      "metadata": {
        "id": "3juJndGnuIHT"
      },
      "execution_count": 77,
      "outputs": []
    },
    {
      "cell_type": "code",
      "source": [
        "import xgboost as xgb\n",
        "from sklearn.model_selection import cross_val_score\n",
        "from sklearn.model_selection import StratifiedKFold\n",
        "from sklearn.preprocessing import StandardScaler"
      ],
      "metadata": {
        "id": "rveRyMHHuNQD"
      },
      "execution_count": 8,
      "outputs": []
    },
    {
      "cell_type": "code",
      "source": [
        "from sklearn.model_selection import train_test_split\n",
        "X = train.drop(['대출등급'], axis=1)\n",
        "y = train['대출등급']\n",
        "X_train, X_test, y_train, y_test = train_test_split(X, y, stratify=y, test_size = 0.3, random_state = 42)"
      ],
      "metadata": {
        "id": "gwdashPmuQGC"
      },
      "execution_count": 114,
      "outputs": []
    },
    {
      "cell_type": "code",
      "source": [
        "from sklearn.model_selection import KFold\n",
        "kf = StratifiedKFold(n_splits=5, shuffle=False)"
      ],
      "metadata": {
        "id": "p9LGS_nquRZS"
      },
      "execution_count": 19,
      "outputs": []
    },
    {
      "cell_type": "code",
      "source": [
        "xgb_model = xgb.XGBClassifier(objective='multi:softmax', num_class=7, random_state=42)\n",
        "xgb_model.fit(X_train,y_train)\n",
        "\n",
        "score = cross_val_score(xgb_model, X_train, y_train, cv=kf, scoring='f1_macro')"
      ],
      "metadata": {
        "id": "uYQZVqqpuTzS"
      },
      "execution_count": 147,
      "outputs": []
    },
    {
      "cell_type": "code",
      "source": [
        "score, score.mean()"
      ],
      "metadata": {
        "colab": {
          "base_uri": "https://localhost:8080/"
        },
        "id": "2B75POC4uVFj",
        "outputId": "4aae6de4-19e5-4cbb-84ac-404ee7b9898a"
      },
      "execution_count": 148,
      "outputs": [
        {
          "output_type": "execute_result",
          "data": {
            "text/plain": [
              "(array([0.91765625, 0.91219788, 0.9240219 , 0.91108887, 0.91164322]),\n",
              " 0.9153216228988187)"
            ]
          },
          "metadata": {},
          "execution_count": 148
        }
      ]
    },
    {
      "cell_type": "code",
      "source": [
        "!pip install catboost"
      ],
      "metadata": {
        "colab": {
          "base_uri": "https://localhost:8080/"
        },
        "id": "1qXvZ_nPvKG_",
        "outputId": "68f6baac-bf29-461f-c17e-b9855977aae7"
      },
      "execution_count": 23,
      "outputs": [
        {
          "output_type": "stream",
          "name": "stdout",
          "text": [
            "Collecting catboost\n",
            "  Downloading catboost-1.2.2-cp310-cp310-manylinux2014_x86_64.whl (98.7 MB)\n",
            "\u001b[2K     \u001b[90m━━━━━━━━━━━━━━━━━━━━━━━━━━━━━━━━━━━━━━━━\u001b[0m \u001b[32m98.7/98.7 MB\u001b[0m \u001b[31m7.6 MB/s\u001b[0m eta \u001b[36m0:00:00\u001b[0m\n",
            "\u001b[?25hRequirement already satisfied: graphviz in /usr/local/lib/python3.10/dist-packages (from catboost) (0.20.1)\n",
            "Requirement already satisfied: matplotlib in /usr/local/lib/python3.10/dist-packages (from catboost) (3.7.1)\n",
            "Requirement already satisfied: numpy>=1.16.0 in /usr/local/lib/python3.10/dist-packages (from catboost) (1.23.5)\n",
            "Requirement already satisfied: pandas>=0.24 in /usr/local/lib/python3.10/dist-packages (from catboost) (1.5.3)\n",
            "Requirement already satisfied: scipy in /usr/local/lib/python3.10/dist-packages (from catboost) (1.11.4)\n",
            "Requirement already satisfied: plotly in /usr/local/lib/python3.10/dist-packages (from catboost) (5.15.0)\n",
            "Requirement already satisfied: six in /usr/local/lib/python3.10/dist-packages (from catboost) (1.16.0)\n",
            "Requirement already satisfied: python-dateutil>=2.8.1 in /usr/local/lib/python3.10/dist-packages (from pandas>=0.24->catboost) (2.8.2)\n",
            "Requirement already satisfied: pytz>=2020.1 in /usr/local/lib/python3.10/dist-packages (from pandas>=0.24->catboost) (2023.4)\n",
            "Requirement already satisfied: contourpy>=1.0.1 in /usr/local/lib/python3.10/dist-packages (from matplotlib->catboost) (1.2.0)\n",
            "Requirement already satisfied: cycler>=0.10 in /usr/local/lib/python3.10/dist-packages (from matplotlib->catboost) (0.12.1)\n",
            "Requirement already satisfied: fonttools>=4.22.0 in /usr/local/lib/python3.10/dist-packages (from matplotlib->catboost) (4.47.2)\n",
            "Requirement already satisfied: kiwisolver>=1.0.1 in /usr/local/lib/python3.10/dist-packages (from matplotlib->catboost) (1.4.5)\n",
            "Requirement already satisfied: packaging>=20.0 in /usr/local/lib/python3.10/dist-packages (from matplotlib->catboost) (23.2)\n",
            "Requirement already satisfied: pillow>=6.2.0 in /usr/local/lib/python3.10/dist-packages (from matplotlib->catboost) (9.4.0)\n",
            "Requirement already satisfied: pyparsing>=2.3.1 in /usr/local/lib/python3.10/dist-packages (from matplotlib->catboost) (3.1.1)\n",
            "Requirement already satisfied: tenacity>=6.2.0 in /usr/local/lib/python3.10/dist-packages (from plotly->catboost) (8.2.3)\n",
            "Installing collected packages: catboost\n",
            "Successfully installed catboost-1.2.2\n"
          ]
        }
      ]
    },
    {
      "cell_type": "code",
      "source": [
        "import xgboost as xgb\n",
        "from sklearn.neural_network import MLPClassifier\n",
        "from catboost import CatBoostClassifier\n",
        "from sklearn.ensemble import RandomForestClassifier\n",
        "import lightgbm as lgb\n",
        "from sklearn.model_selection import cross_val_score, StratifiedKFold, train_test_split\n",
        "from sklearn.preprocessing import StandardScaler\n",
        "from sklearn.metrics import f1_score"
      ],
      "metadata": {
        "id": "4KHTEOWsvI9X"
      },
      "execution_count": 24,
      "outputs": []
    },
    {
      "cell_type": "code",
      "source": [
        "from sklearn.model_selection import train_test_split\n",
        "X = train.drop('대출등급', axis=1)\n",
        "y = train['대출등급']\n",
        "X_train, X_test, y_train, y_test = train_test_split(X, y, stratify=y, test_size = 0.3, random_state = 42)"
      ],
      "metadata": {
        "id": "-JBsvjG31LDp"
      },
      "execution_count": 133,
      "outputs": []
    },
    {
      "cell_type": "code",
      "source": [
        "X_train.info()"
      ],
      "metadata": {
        "colab": {
          "base_uri": "https://localhost:8080/"
        },
        "id": "8BD9ICAKg3y6",
        "outputId": "7c0180c1-f356-4f2f-d4bb-b98ceab76341"
      },
      "execution_count": 121,
      "outputs": [
        {
          "output_type": "stream",
          "name": "stdout",
          "text": [
            "<class 'pandas.core.frame.DataFrame'>\n",
            "Int64Index: 67405 entries, 42717 to 33408\n",
            "Data columns (total 21 columns):\n",
            " #   Column        Non-Null Count  Dtype  \n",
            "---  ------        --------------  -----  \n",
            " 0   대출금액          67405 non-null  int64  \n",
            " 1   대출기간          67405 non-null  int64  \n",
            " 2   근로기간          67405 non-null  int64  \n",
            " 3   주택소유상태        67405 non-null  int64  \n",
            " 4   연간소득          67405 non-null  int64  \n",
            " 5   부채_대비_소득_비율   67405 non-null  float64\n",
            " 6   총계좌수          67405 non-null  int64  \n",
            " 7   대출목적          67405 non-null  int64  \n",
            " 8   최근_2년간_연체_횟수  67405 non-null  int64  \n",
            " 9   총상환원금         67405 non-null  int64  \n",
            " 10  총상환이자         67405 non-null  float64\n",
            " 11  총연체금액         67405 non-null  float64\n",
            " 12  연체계좌수         67405 non-null  float64\n",
            " 13  원금/대출         67405 non-null  float64\n",
            " 14  이자/대출         67405 non-null  float64\n",
            " 15  대출월금액         67405 non-null  float64\n",
            " 16  소득/대출         67405 non-null  float64\n",
            " 17  이자/소득         67405 non-null  float64\n",
            " 18  원금/소득         67405 non-null  float64\n",
            " 19  이자/원금         67405 non-null  float64\n",
            " 20  연체계좌/총계좌      67405 non-null  float64\n",
            "dtypes: float64(12), int64(9)\n",
            "memory usage: 11.3 MB\n"
          ]
        }
      ]
    },
    {
      "cell_type": "code",
      "source": [
        "from sklearn.preprocessing import MinMaxScaler\n",
        "\n",
        "# Extract the columns to be scaled\n",
        "columns_to_scale = [col for col in X_train.columns if col not in ['대출기간', '근로기간', '주택소유상태', '대출목적']]\n",
        "\n",
        "# Create a MinMaxScaler\n",
        "scaler = MinMaxScaler()\n",
        "\n",
        "# Fit and transform the selected columns in X_train\n",
        "X_train_scaled = X_train.copy()\n",
        "X_train_scaled[columns_to_scale] = scaler.fit_transform(X_train[columns_to_scale])\n",
        "\n",
        "# Transform the selected columns in X_test\n",
        "X_test_scaled = X_test.copy()\n",
        "X_test_scaled[columns_to_scale] = scaler.transform(X_test[columns_to_scale])"
      ],
      "metadata": {
        "id": "gr_usKfOgo7K"
      },
      "execution_count": null,
      "outputs": []
    },
    {
      "cell_type": "code",
      "source": [
        "# XGBoost\n",
        "xgb_model = xgb.XGBClassifier()\n",
        "xgb_model.fit(X_train_scaled, y_train)\n",
        "xgb_scores = cross_val_score(xgb_model, X_train_scaled, y_train, cv=kf, scoring='f1_macro')\n",
        "# print(f'XGBoost Cross-Validation F1 Macro: {xgb_scores.mean()}')\n",
        "xgb_predictions = xgb_model.predict(X_test_scaled)\n",
        "xgb_macro = f1_score(y_test, xgb_predictions, average='macro')\n",
        "# print(f'XGBoost test F1 Macro: {xgb_macro}\\n')\n",
        "\n",
        "\n",
        "# CatBoost\n",
        "cat_model = CatBoostClassifier(random_state=42, verbose=False)\n",
        "cat_model.fit(X_train_scaled, y_train)\n",
        "cat_predictions = cat_model.predict(X_test_scaled)\n",
        "cat_scores = cross_val_score(cat_model, X_train_scaled, y_train, cv=kf, scoring='f1_macro')\n",
        "# print(f'CatBoost Cross-Validation F1 Macro: {cat_scores.mean()}')\n",
        "cat_macro = f1_score(y_test, cat_predictions, average='macro')\n",
        "# print(f'Cat test F1 Macro: {cat_macro}\\n')\n",
        "\n",
        "# Random Forest\n",
        "rf_model = RandomForestClassifier(random_state=42)\n",
        "rf_model.fit(X_train_scaled, y_train)\n",
        "rf_predictions = rf_model.predict(X_test_scaled)\n",
        "rf_scores = cross_val_score(rf_model, X_train_scaled, y_train, cv=kf, scoring='f1_macro')\n",
        "# print(f'Random Forest Cross-Validation F1 Macro: {rf_scores.mean()}')\n",
        "rf_macro = f1_score(y_test, rf_predictions, average='macro')\n",
        "# print(f'RF test F1 Macro: {rf_macro}\\n')\n",
        "\n",
        "# LightGBM\n",
        "lgb_model = lgb.LGBMClassifier(random_state=42)\n",
        "lgb_model.fit(X_train_scaled, y_train)\n",
        "lgb_predictions = lgb_model.predict(X_test_scaled)\n",
        "lgb_scores = cross_val_score(lgb_model, X_train_scaled, y_train, cv=kf, scoring='f1_macro')\n",
        "# print(f'LightGBM Cross-Validation F1 Macro: {lgb_scores.mean()}')\n",
        "lgb_macro = f1_score(y_test, lgb_predictions, average='macro')\n",
        "# print(f'RF test F1 Macro: {lgb_macro}\\n')"
      ],
      "metadata": {
        "id": "nUaOUiBsmFY6"
      },
      "execution_count": null,
      "outputs": []
    },
    {
      "cell_type": "code",
      "source": [
        "# XGBoost\n",
        "xgb_model = xgb.XGBClassifier()\n",
        "xgb_model.fit(X_train, y_train)\n",
        "xgb_scores = cross_val_score(xgb_model, X_train, y_train, cv=kf, scoring='f1_macro')\n",
        "# print(f'XGBoost Cross-Validation F1 Macro: {xgb_scores.mean()}')\n",
        "xgb_predictions = xgb_model.predict(X_test)\n",
        "xgb_macro = f1_score(y_test, xgb_predictions, average='macro')\n",
        "# print(f'XGBoost test F1 Macro: {xgb_macro}\\n')\n",
        "\n",
        "\n",
        "# CatBoost\n",
        "cat_model = CatBoostClassifier(random_state=42, verbose=False)\n",
        "cat_model.fit(X_train, y_train)\n",
        "cat_predictions = cat_model.predict(X_test)\n",
        "cat_scores = cross_val_score(cat_model, X_train, y_train, cv=kf, scoring='f1_macro')\n",
        "# print(f'CatBoost Cross-Validation F1 Macro: {cat_scores.mean()}')\n",
        "cat_macro = f1_score(y_test, cat_predictions, average='macro')\n",
        "# print(f'Cat test F1 Macro: {cat_macro}\\n')\n",
        "\n",
        "# Random Forest\n",
        "rf_model = RandomForestClassifier(random_state=42)\n",
        "rf_model.fit(X_train, y_train)\n",
        "rf_predictions = rf_model.predict(X_test)\n",
        "rf_scores = cross_val_score(rf_model, X_train, y_train, cv=kf, scoring='f1_macro')\n",
        "# print(f'Random Forest Cross-Validation F1 Macro: {rf_scores.mean()}')\n",
        "rf_macro = f1_score(y_test, rf_predictions, average='macro')\n",
        "# print(f'RF test F1 Macro: {rf_macro}\\n')\n",
        "\n",
        "# LightGBM\n",
        "lgb_model = lgb.LGBMClassifier(random_state=42)\n",
        "lgb_model.fit(X_train, y_train)\n",
        "lgb_predictions = lgb_model.predict(X_test)\n",
        "lgb_scores = cross_val_score(lgb_model, X_train, y_train, cv=kf, scoring='f1_macro')\n",
        "# print(f'LightGBM Cross-Validation F1 Macro: {lgb_scores.mean()}')\n",
        "lgb_macro = f1_score(y_test, lgb_predictions, average='macro')\n",
        "# print(f'RF test F1 Macro: {lgb_macro}\\n')"
      ],
      "metadata": {
        "colab": {
          "base_uri": "https://localhost:8080/"
        },
        "id": "hGIbOpi3vI7P",
        "outputId": "1371f1ff-db9b-40ff-f035-6a8d7237feef"
      },
      "execution_count": 135,
      "outputs": [
        {
          "output_type": "stream",
          "name": "stdout",
          "text": [
            "[LightGBM] [Info] Auto-choosing row-wise multi-threading, the overhead of testing was 0.007247 seconds.\n",
            "You can set `force_row_wise=true` to remove the overhead.\n",
            "And if memory is not enough, you can set `force_col_wise=true`.\n",
            "[LightGBM] [Info] Total Bins 3284\n",
            "[LightGBM] [Info] Number of data points in the train set: 67405, number of used features: 21\n",
            "[LightGBM] [Info] Start training from score -1.747717\n",
            "[LightGBM] [Info] Start training from score -1.206424\n",
            "[LightGBM] [Info] Start training from score -1.248802\n",
            "[LightGBM] [Info] Start training from score -1.975557\n",
            "[LightGBM] [Info] Start training from score -2.572111\n",
            "[LightGBM] [Info] Start training from score -3.897369\n",
            "[LightGBM] [Info] Start training from score -5.434895\n",
            "[LightGBM] [Info] Auto-choosing col-wise multi-threading, the overhead of testing was 0.014222 seconds.\n",
            "You can set `force_col_wise=true` to remove the overhead.\n",
            "[LightGBM] [Info] Total Bins 3273\n",
            "[LightGBM] [Info] Number of data points in the train set: 53924, number of used features: 21\n",
            "[LightGBM] [Info] Start training from score -1.747717\n",
            "[LightGBM] [Info] Start training from score -1.206399\n",
            "[LightGBM] [Info] Start training from score -1.248802\n",
            "[LightGBM] [Info] Start training from score -1.975610\n",
            "[LightGBM] [Info] Start training from score -2.572208\n",
            "[LightGBM] [Info] Start training from score -3.897735\n",
            "[LightGBM] [Info] Start training from score -5.431499\n",
            "[LightGBM] [Info] Auto-choosing row-wise multi-threading, the overhead of testing was 0.005744 seconds.\n",
            "You can set `force_row_wise=true` to remove the overhead.\n",
            "And if memory is not enough, you can set `force_col_wise=true`.\n",
            "[LightGBM] [Info] Total Bins 3275\n",
            "[LightGBM] [Info] Number of data points in the train set: 53924, number of used features: 21\n",
            "[LightGBM] [Info] Start training from score -1.747717\n",
            "[LightGBM] [Info] Start training from score -1.206399\n",
            "[LightGBM] [Info] Start training from score -1.248802\n",
            "[LightGBM] [Info] Start training from score -1.975477\n",
            "[LightGBM] [Info] Start training from score -2.572208\n",
            "[LightGBM] [Info] Start training from score -3.897735\n",
            "[LightGBM] [Info] Start training from score -5.435745\n",
            "[LightGBM] [Info] Auto-choosing row-wise multi-threading, the overhead of testing was 0.005803 seconds.\n",
            "You can set `force_row_wise=true` to remove the overhead.\n",
            "And if memory is not enough, you can set `force_col_wise=true`.\n",
            "[LightGBM] [Info] Total Bins 3275\n",
            "[LightGBM] [Info] Number of data points in the train set: 53924, number of used features: 21\n",
            "[LightGBM] [Info] Start training from score -1.747717\n",
            "[LightGBM] [Info] Start training from score -1.206399\n",
            "[LightGBM] [Info] Start training from score -1.248802\n",
            "[LightGBM] [Info] Start training from score -1.975477\n",
            "[LightGBM] [Info] Start training from score -2.572208\n",
            "[LightGBM] [Info] Start training from score -3.897735\n",
            "[LightGBM] [Info] Start training from score -5.435745\n",
            "[LightGBM] [Info] Auto-choosing col-wise multi-threading, the overhead of testing was 0.013730 seconds.\n",
            "You can set `force_col_wise=true` to remove the overhead.\n",
            "[LightGBM] [Info] Total Bins 3270\n",
            "[LightGBM] [Info] Number of data points in the train set: 53924, number of used features: 21\n",
            "[LightGBM] [Info] Start training from score -1.747717\n",
            "[LightGBM] [Info] Start training from score -1.206461\n",
            "[LightGBM] [Info] Start training from score -1.248802\n",
            "[LightGBM] [Info] Start training from score -1.975610\n",
            "[LightGBM] [Info] Start training from score -2.571965\n",
            "[LightGBM] [Info] Start training from score -3.896821\n",
            "[LightGBM] [Info] Start training from score -5.435745\n",
            "[LightGBM] [Info] Auto-choosing col-wise multi-threading, the overhead of testing was 0.013935 seconds.\n",
            "You can set `force_col_wise=true` to remove the overhead.\n",
            "[LightGBM] [Info] Total Bins 3275\n",
            "[LightGBM] [Info] Number of data points in the train set: 53924, number of used features: 21\n",
            "[LightGBM] [Info] Start training from score -1.747717\n",
            "[LightGBM] [Info] Start training from score -1.206461\n",
            "[LightGBM] [Info] Start training from score -1.248802\n",
            "[LightGBM] [Info] Start training from score -1.975610\n",
            "[LightGBM] [Info] Start training from score -2.571965\n",
            "[LightGBM] [Info] Start training from score -3.896821\n",
            "[LightGBM] [Info] Start training from score -5.435745\n"
          ]
        }
      ]
    },
    {
      "cell_type": "code",
      "source": [
        "print(f'XGBoost Cross-Validation F1 Macro: {xgb_scores.mean()}')\n",
        "print(f'Neural Network Cross-Validation F1 Macro: {nn_scores.mean()}')\n",
        "print(f'CatBoost Cross-Validation F1 Macro: {cat_scores.mean()}')\n",
        "print(f'Random Forest Cross-Validation F1 Macro: {rf_scores.mean()}')\n",
        "print(f'LightGBM Cross-Validation F1 Macro: {lgb_scores.mean()}')"
      ],
      "metadata": {
        "colab": {
          "base_uri": "https://localhost:8080/"
        },
        "id": "IAsAdJqzvSlH",
        "outputId": "0e44fe55-98e8-4d2f-d9cb-42e28b8df353"
      },
      "execution_count": 26,
      "outputs": [
        {
          "output_type": "stream",
          "name": "stdout",
          "text": [
            "XGBoost Cross-Validation F1 Macro: 0.9089996063052805\n",
            "Neural Network Cross-Validation F1 Macro: 0.3065191161390273\n",
            "CatBoost Cross-Validation F1 Macro: 0.8902183005400397\n",
            "Random Forest Cross-Validation F1 Macro: 0.8947749852229687\n",
            "LightGBM Cross-Validation F1 Macro: 0.8767445402862283\n"
          ]
        }
      ]
    },
    {
      "cell_type": "code",
      "source": [
        "#소득/대출\n",
        "print(f'XGBoost Cross-Validation F1 Macro: {xgb_scores.mean()}')\n",
        "print(f'Neural Network Cross-Validation F1 Macro: {nn_scores.mean()}')\n",
        "print(f'CatBoost Cross-Validation F1 Macro: {cat_scores.mean()}')\n",
        "print(f'Random Forest Cross-Validation F1 Macro: {rf_scores.mean()}')\n",
        "print(f'LightGBM Cross-Validation F1 Macro: {lgb_scores.mean()}')"
      ],
      "metadata": {
        "colab": {
          "base_uri": "https://localhost:8080/"
        },
        "id": "8UW5Uiuw1NVx",
        "outputId": "1f6db9c0-a80e-45b4-8a38-bb99255b242c"
      },
      "execution_count": 31,
      "outputs": [
        {
          "output_type": "stream",
          "name": "stdout",
          "text": [
            "XGBoost Cross-Validation F1 Macro: 0.907585100092698\n",
            "Neural Network Cross-Validation F1 Macro: 0.34751834673683196\n",
            "CatBoost Cross-Validation F1 Macro: 0.8890415209018506\n",
            "Random Forest Cross-Validation F1 Macro: 0.9127493696168608\n",
            "LightGBM Cross-Validation F1 Macro: 0.8944915699680193\n"
          ]
        }
      ]
    },
    {
      "cell_type": "code",
      "source": [
        "#except 대출기간\n",
        "print(f'XGBoost Cross-Validation F1 Macro: {xgb_scores.mean()}')\n",
        "print(f'CatBoost Cross-Validation F1 Macro: {cat_scores.mean()}')\n",
        "print(f'Random Forest Cross-Validation F1 Macro: {rf_scores.mean()}')\n",
        "print(f'LightGBM Cross-Validation F1 Macro: {lgb_scores.mean()}')"
      ],
      "metadata": {
        "colab": {
          "base_uri": "https://localhost:8080/"
        },
        "id": "OWIYDZw74iC8",
        "outputId": "a720c604-5228-4eab-e2ca-541dd7657e71"
      },
      "execution_count": 37,
      "outputs": [
        {
          "output_type": "stream",
          "name": "stdout",
          "text": [
            "XGBoost Cross-Validation F1 Macro: 0.9024116815217298\n",
            "CatBoost Cross-Validation F1 Macro: 0.8859957121131405\n",
            "Random Forest Cross-Validation F1 Macro: 0.8745078358613979\n",
            "LightGBM Cross-Validation F1 Macro: 0.888317005507447\n"
          ]
        }
      ]
    },
    {
      "cell_type": "code",
      "source": [
        "#원금/소득, 이자/소득\n",
        "print(f'XGBoost Cross-Validation F1 Macro: {xgb_scores.mean()}')\n",
        "print(f'CatBoost Cross-Validation F1 Macro: {cat_scores.mean()}')\n",
        "print(f'Random Forest Cross-Validation F1 Macro: {rf_scores.mean()}')\n",
        "print(f'LightGBM Cross-Validation F1 Macro: {lgb_scores.mean()}')"
      ],
      "metadata": {
        "colab": {
          "base_uri": "https://localhost:8080/"
        },
        "id": "vpbNbRfw7ibq",
        "outputId": "ad6bf81f-59f7-4df6-e5c0-98fb44094b04"
      },
      "execution_count": 42,
      "outputs": [
        {
          "output_type": "stream",
          "name": "stdout",
          "text": [
            "XGBoost Cross-Validation F1 Macro: 0.9078031322506565\n",
            "CatBoost Cross-Validation F1 Macro: 0.8882495064101402\n",
            "Random Forest Cross-Validation F1 Macro: 0.8745078358613979\n",
            "LightGBM Cross-Validation F1 Macro: 0.888317005507447\n"
          ]
        }
      ]
    },
    {
      "cell_type": "code",
      "source": [
        "#이자/원금\n",
        "print(f'XGBoost Cross-Validation F1 Macro: {xgb_scores.mean()}')\n",
        "print(f'CatBoost Cross-Validation F1 Macro: {cat_scores.mean()}')\n",
        "print(f'Random Forest Cross-Validation F1 Macro: {rf_scores.mean()}')\n",
        "print(f'LightGBM Cross-Validation F1 Macro: {lgb_scores.mean()}')"
      ],
      "metadata": {
        "colab": {
          "base_uri": "https://localhost:8080/"
        },
        "id": "RC1ChxnyDMdo",
        "outputId": "909dd148-d273-4356-f10f-654a93ee7421"
      },
      "execution_count": 104,
      "outputs": [
        {
          "output_type": "stream",
          "name": "stdout",
          "text": [
            "XGBoost Cross-Validation F1 Macro: 0.915468669651981\n",
            "CatBoost Cross-Validation F1 Macro: 0.897372382392092\n",
            "Random Forest Cross-Validation F1 Macro: 0.9150548212303089\n",
            "LightGBM Cross-Validation F1 Macro: 0.9064435066178493\n"
          ]
        }
      ]
    },
    {
      "cell_type": "code",
      "source": [
        "#연체계좌/총계좌\n",
        "print(f'XGBoost Cross-Validation F1 Macro: {xgb_scores.mean()}')\n",
        "print(f'CatBoost Cross-Validation F1 Macro: {cat_scores.mean()}')\n",
        "print(f'Random Forest Cross-Validation F1 Macro: {rf_scores.mean()}')\n",
        "print(f'LightGBM Cross-Validation F1 Macro: {lgb_scores.mean()}\\n\\n')\n",
        "\n",
        "print(f'xgb test F1 Macro: {xgb_macro}')\n",
        "print(f'cat test F1 Macro: {cat_macro}')\n",
        "print(f'rf test F1 Macro: {rf_macro}')\n",
        "print(f'lgb test F1 Macro: {lgb_macro}')"
      ],
      "metadata": {
        "colab": {
          "base_uri": "https://localhost:8080/"
        },
        "id": "2F0B5EAGcZGj",
        "outputId": "af2b1cc1-8475-4e83-d74a-0ae40771f9c7"
      },
      "execution_count": 136,
      "outputs": [
        {
          "output_type": "stream",
          "name": "stdout",
          "text": [
            "XGBoost Cross-Validation F1 Macro: 0.9153216228988187\n",
            "CatBoost Cross-Validation F1 Macro: 0.8985959854332141\n",
            "Random Forest Cross-Validation F1 Macro: 0.9132654396305304\n",
            "LightGBM Cross-Validation F1 Macro: 0.8845878572987736\n",
            "\n",
            "\n",
            "xgb test F1 Macro: 0.9111962985092255\n",
            "cat test F1 Macro: 0.8968534238360908\n",
            "rf test F1 Macro: 0.9118980178439041\n",
            "lgb test F1 Macro: 0.8644472437055299\n"
          ]
        }
      ]
    },
    {
      "cell_type": "code",
      "source": [
        "cat_predictions_flat = np.ravel(cat_predictions)"
      ],
      "metadata": {
        "id": "j61Fl8fIm_JM"
      },
      "execution_count": 138,
      "outputs": []
    },
    {
      "cell_type": "code",
      "source": [
        "data = {\n",
        "    'xgb': xgb_predictions,\n",
        "    'cat': cat_predictions_flat,\n",
        "    'lgb': lgb_predictions,\n",
        "    'rf': rf_predictions,\n",
        "    'sol': y_test\n",
        "\n",
        "}\n",
        "\n",
        "pred_df = pd.DataFrame(data)"
      ],
      "metadata": {
        "id": "eZFYeHzomT_5"
      },
      "execution_count": 139,
      "outputs": []
    },
    {
      "cell_type": "code",
      "source": [
        "rows_with_different_values = pred_df[pred_df.apply(lambda row: row.nunique() > 1, axis=1)]\n",
        "rows_with_different_values"
      ],
      "metadata": {
        "colab": {
          "base_uri": "https://localhost:8080/",
          "height": 423
        },
        "id": "uuqkm76FmT9z",
        "outputId": "300869b5-9044-4d8c-b22a-e29ba6b66e89"
      },
      "execution_count": 140,
      "outputs": [
        {
          "output_type": "execute_result",
          "data": {
            "text/plain": [
              "       xgb  cat  lgb  rf  sol\n",
              "42625    0    1    1   1    0\n",
              "33592    1    1    1   2    1\n",
              "17484    2    1    1   1    1\n",
              "46409    0    1    1   1    0\n",
              "73702    4    4    2   3    4\n",
              "...    ...  ...  ...  ..  ...\n",
              "22887    4    2    4   4    2\n",
              "17856    0    1    0   0    0\n",
              "62552    2    2    2   2    1\n",
              "55856    0    1    0   0    0\n",
              "88428    0    0    0   0    1\n",
              "\n",
              "[2798 rows x 5 columns]"
            ],
            "text/html": [
              "\n",
              "  <div id=\"df-ef48be71-e44a-4a19-9ebd-c9c01c96cf58\" class=\"colab-df-container\">\n",
              "    <div>\n",
              "<style scoped>\n",
              "    .dataframe tbody tr th:only-of-type {\n",
              "        vertical-align: middle;\n",
              "    }\n",
              "\n",
              "    .dataframe tbody tr th {\n",
              "        vertical-align: top;\n",
              "    }\n",
              "\n",
              "    .dataframe thead th {\n",
              "        text-align: right;\n",
              "    }\n",
              "</style>\n",
              "<table border=\"1\" class=\"dataframe\">\n",
              "  <thead>\n",
              "    <tr style=\"text-align: right;\">\n",
              "      <th></th>\n",
              "      <th>xgb</th>\n",
              "      <th>cat</th>\n",
              "      <th>lgb</th>\n",
              "      <th>rf</th>\n",
              "      <th>sol</th>\n",
              "    </tr>\n",
              "  </thead>\n",
              "  <tbody>\n",
              "    <tr>\n",
              "      <th>42625</th>\n",
              "      <td>0</td>\n",
              "      <td>1</td>\n",
              "      <td>1</td>\n",
              "      <td>1</td>\n",
              "      <td>0</td>\n",
              "    </tr>\n",
              "    <tr>\n",
              "      <th>33592</th>\n",
              "      <td>1</td>\n",
              "      <td>1</td>\n",
              "      <td>1</td>\n",
              "      <td>2</td>\n",
              "      <td>1</td>\n",
              "    </tr>\n",
              "    <tr>\n",
              "      <th>17484</th>\n",
              "      <td>2</td>\n",
              "      <td>1</td>\n",
              "      <td>1</td>\n",
              "      <td>1</td>\n",
              "      <td>1</td>\n",
              "    </tr>\n",
              "    <tr>\n",
              "      <th>46409</th>\n",
              "      <td>0</td>\n",
              "      <td>1</td>\n",
              "      <td>1</td>\n",
              "      <td>1</td>\n",
              "      <td>0</td>\n",
              "    </tr>\n",
              "    <tr>\n",
              "      <th>73702</th>\n",
              "      <td>4</td>\n",
              "      <td>4</td>\n",
              "      <td>2</td>\n",
              "      <td>3</td>\n",
              "      <td>4</td>\n",
              "    </tr>\n",
              "    <tr>\n",
              "      <th>...</th>\n",
              "      <td>...</td>\n",
              "      <td>...</td>\n",
              "      <td>...</td>\n",
              "      <td>...</td>\n",
              "      <td>...</td>\n",
              "    </tr>\n",
              "    <tr>\n",
              "      <th>22887</th>\n",
              "      <td>4</td>\n",
              "      <td>2</td>\n",
              "      <td>4</td>\n",
              "      <td>4</td>\n",
              "      <td>2</td>\n",
              "    </tr>\n",
              "    <tr>\n",
              "      <th>17856</th>\n",
              "      <td>0</td>\n",
              "      <td>1</td>\n",
              "      <td>0</td>\n",
              "      <td>0</td>\n",
              "      <td>0</td>\n",
              "    </tr>\n",
              "    <tr>\n",
              "      <th>62552</th>\n",
              "      <td>2</td>\n",
              "      <td>2</td>\n",
              "      <td>2</td>\n",
              "      <td>2</td>\n",
              "      <td>1</td>\n",
              "    </tr>\n",
              "    <tr>\n",
              "      <th>55856</th>\n",
              "      <td>0</td>\n",
              "      <td>1</td>\n",
              "      <td>0</td>\n",
              "      <td>0</td>\n",
              "      <td>0</td>\n",
              "    </tr>\n",
              "    <tr>\n",
              "      <th>88428</th>\n",
              "      <td>0</td>\n",
              "      <td>0</td>\n",
              "      <td>0</td>\n",
              "      <td>0</td>\n",
              "      <td>1</td>\n",
              "    </tr>\n",
              "  </tbody>\n",
              "</table>\n",
              "<p>2798 rows × 5 columns</p>\n",
              "</div>\n",
              "    <div class=\"colab-df-buttons\">\n",
              "\n",
              "  <div class=\"colab-df-container\">\n",
              "    <button class=\"colab-df-convert\" onclick=\"convertToInteractive('df-ef48be71-e44a-4a19-9ebd-c9c01c96cf58')\"\n",
              "            title=\"Convert this dataframe to an interactive table.\"\n",
              "            style=\"display:none;\">\n",
              "\n",
              "  <svg xmlns=\"http://www.w3.org/2000/svg\" height=\"24px\" viewBox=\"0 -960 960 960\">\n",
              "    <path d=\"M120-120v-720h720v720H120Zm60-500h600v-160H180v160Zm220 220h160v-160H400v160Zm0 220h160v-160H400v160ZM180-400h160v-160H180v160Zm440 0h160v-160H620v160ZM180-180h160v-160H180v160Zm440 0h160v-160H620v160Z\"/>\n",
              "  </svg>\n",
              "    </button>\n",
              "\n",
              "  <style>\n",
              "    .colab-df-container {\n",
              "      display:flex;\n",
              "      gap: 12px;\n",
              "    }\n",
              "\n",
              "    .colab-df-convert {\n",
              "      background-color: #E8F0FE;\n",
              "      border: none;\n",
              "      border-radius: 50%;\n",
              "      cursor: pointer;\n",
              "      display: none;\n",
              "      fill: #1967D2;\n",
              "      height: 32px;\n",
              "      padding: 0 0 0 0;\n",
              "      width: 32px;\n",
              "    }\n",
              "\n",
              "    .colab-df-convert:hover {\n",
              "      background-color: #E2EBFA;\n",
              "      box-shadow: 0px 1px 2px rgba(60, 64, 67, 0.3), 0px 1px 3px 1px rgba(60, 64, 67, 0.15);\n",
              "      fill: #174EA6;\n",
              "    }\n",
              "\n",
              "    .colab-df-buttons div {\n",
              "      margin-bottom: 4px;\n",
              "    }\n",
              "\n",
              "    [theme=dark] .colab-df-convert {\n",
              "      background-color: #3B4455;\n",
              "      fill: #D2E3FC;\n",
              "    }\n",
              "\n",
              "    [theme=dark] .colab-df-convert:hover {\n",
              "      background-color: #434B5C;\n",
              "      box-shadow: 0px 1px 3px 1px rgba(0, 0, 0, 0.15);\n",
              "      filter: drop-shadow(0px 1px 2px rgba(0, 0, 0, 0.3));\n",
              "      fill: #FFFFFF;\n",
              "    }\n",
              "  </style>\n",
              "\n",
              "    <script>\n",
              "      const buttonEl =\n",
              "        document.querySelector('#df-ef48be71-e44a-4a19-9ebd-c9c01c96cf58 button.colab-df-convert');\n",
              "      buttonEl.style.display =\n",
              "        google.colab.kernel.accessAllowed ? 'block' : 'none';\n",
              "\n",
              "      async function convertToInteractive(key) {\n",
              "        const element = document.querySelector('#df-ef48be71-e44a-4a19-9ebd-c9c01c96cf58');\n",
              "        const dataTable =\n",
              "          await google.colab.kernel.invokeFunction('convertToInteractive',\n",
              "                                                    [key], {});\n",
              "        if (!dataTable) return;\n",
              "\n",
              "        const docLinkHtml = 'Like what you see? Visit the ' +\n",
              "          '<a target=\"_blank\" href=https://colab.research.google.com/notebooks/data_table.ipynb>data table notebook</a>'\n",
              "          + ' to learn more about interactive tables.';\n",
              "        element.innerHTML = '';\n",
              "        dataTable['output_type'] = 'display_data';\n",
              "        await google.colab.output.renderOutput(dataTable, element);\n",
              "        const docLink = document.createElement('div');\n",
              "        docLink.innerHTML = docLinkHtml;\n",
              "        element.appendChild(docLink);\n",
              "      }\n",
              "    </script>\n",
              "  </div>\n",
              "\n",
              "\n",
              "<div id=\"df-78662f3f-454b-4d8d-a486-416fd3698338\">\n",
              "  <button class=\"colab-df-quickchart\" onclick=\"quickchart('df-78662f3f-454b-4d8d-a486-416fd3698338')\"\n",
              "            title=\"Suggest charts\"\n",
              "            style=\"display:none;\">\n",
              "\n",
              "<svg xmlns=\"http://www.w3.org/2000/svg\" height=\"24px\"viewBox=\"0 0 24 24\"\n",
              "     width=\"24px\">\n",
              "    <g>\n",
              "        <path d=\"M19 3H5c-1.1 0-2 .9-2 2v14c0 1.1.9 2 2 2h14c1.1 0 2-.9 2-2V5c0-1.1-.9-2-2-2zM9 17H7v-7h2v7zm4 0h-2V7h2v10zm4 0h-2v-4h2v4z\"/>\n",
              "    </g>\n",
              "</svg>\n",
              "  </button>\n",
              "\n",
              "<style>\n",
              "  .colab-df-quickchart {\n",
              "      --bg-color: #E8F0FE;\n",
              "      --fill-color: #1967D2;\n",
              "      --hover-bg-color: #E2EBFA;\n",
              "      --hover-fill-color: #174EA6;\n",
              "      --disabled-fill-color: #AAA;\n",
              "      --disabled-bg-color: #DDD;\n",
              "  }\n",
              "\n",
              "  [theme=dark] .colab-df-quickchart {\n",
              "      --bg-color: #3B4455;\n",
              "      --fill-color: #D2E3FC;\n",
              "      --hover-bg-color: #434B5C;\n",
              "      --hover-fill-color: #FFFFFF;\n",
              "      --disabled-bg-color: #3B4455;\n",
              "      --disabled-fill-color: #666;\n",
              "  }\n",
              "\n",
              "  .colab-df-quickchart {\n",
              "    background-color: var(--bg-color);\n",
              "    border: none;\n",
              "    border-radius: 50%;\n",
              "    cursor: pointer;\n",
              "    display: none;\n",
              "    fill: var(--fill-color);\n",
              "    height: 32px;\n",
              "    padding: 0;\n",
              "    width: 32px;\n",
              "  }\n",
              "\n",
              "  .colab-df-quickchart:hover {\n",
              "    background-color: var(--hover-bg-color);\n",
              "    box-shadow: 0 1px 2px rgba(60, 64, 67, 0.3), 0 1px 3px 1px rgba(60, 64, 67, 0.15);\n",
              "    fill: var(--button-hover-fill-color);\n",
              "  }\n",
              "\n",
              "  .colab-df-quickchart-complete:disabled,\n",
              "  .colab-df-quickchart-complete:disabled:hover {\n",
              "    background-color: var(--disabled-bg-color);\n",
              "    fill: var(--disabled-fill-color);\n",
              "    box-shadow: none;\n",
              "  }\n",
              "\n",
              "  .colab-df-spinner {\n",
              "    border: 2px solid var(--fill-color);\n",
              "    border-color: transparent;\n",
              "    border-bottom-color: var(--fill-color);\n",
              "    animation:\n",
              "      spin 1s steps(1) infinite;\n",
              "  }\n",
              "\n",
              "  @keyframes spin {\n",
              "    0% {\n",
              "      border-color: transparent;\n",
              "      border-bottom-color: var(--fill-color);\n",
              "      border-left-color: var(--fill-color);\n",
              "    }\n",
              "    20% {\n",
              "      border-color: transparent;\n",
              "      border-left-color: var(--fill-color);\n",
              "      border-top-color: var(--fill-color);\n",
              "    }\n",
              "    30% {\n",
              "      border-color: transparent;\n",
              "      border-left-color: var(--fill-color);\n",
              "      border-top-color: var(--fill-color);\n",
              "      border-right-color: var(--fill-color);\n",
              "    }\n",
              "    40% {\n",
              "      border-color: transparent;\n",
              "      border-right-color: var(--fill-color);\n",
              "      border-top-color: var(--fill-color);\n",
              "    }\n",
              "    60% {\n",
              "      border-color: transparent;\n",
              "      border-right-color: var(--fill-color);\n",
              "    }\n",
              "    80% {\n",
              "      border-color: transparent;\n",
              "      border-right-color: var(--fill-color);\n",
              "      border-bottom-color: var(--fill-color);\n",
              "    }\n",
              "    90% {\n",
              "      border-color: transparent;\n",
              "      border-bottom-color: var(--fill-color);\n",
              "    }\n",
              "  }\n",
              "</style>\n",
              "\n",
              "  <script>\n",
              "    async function quickchart(key) {\n",
              "      const quickchartButtonEl =\n",
              "        document.querySelector('#' + key + ' button');\n",
              "      quickchartButtonEl.disabled = true;  // To prevent multiple clicks.\n",
              "      quickchartButtonEl.classList.add('colab-df-spinner');\n",
              "      try {\n",
              "        const charts = await google.colab.kernel.invokeFunction(\n",
              "            'suggestCharts', [key], {});\n",
              "      } catch (error) {\n",
              "        console.error('Error during call to suggestCharts:', error);\n",
              "      }\n",
              "      quickchartButtonEl.classList.remove('colab-df-spinner');\n",
              "      quickchartButtonEl.classList.add('colab-df-quickchart-complete');\n",
              "    }\n",
              "    (() => {\n",
              "      let quickchartButtonEl =\n",
              "        document.querySelector('#df-78662f3f-454b-4d8d-a486-416fd3698338 button');\n",
              "      quickchartButtonEl.style.display =\n",
              "        google.colab.kernel.accessAllowed ? 'block' : 'none';\n",
              "    })();\n",
              "  </script>\n",
              "</div>\n",
              "\n",
              "  <div id=\"id_7b165ac1-ea75-4ab5-87c5-c5189c205352\">\n",
              "    <style>\n",
              "      .colab-df-generate {\n",
              "        background-color: #E8F0FE;\n",
              "        border: none;\n",
              "        border-radius: 50%;\n",
              "        cursor: pointer;\n",
              "        display: none;\n",
              "        fill: #1967D2;\n",
              "        height: 32px;\n",
              "        padding: 0 0 0 0;\n",
              "        width: 32px;\n",
              "      }\n",
              "\n",
              "      .colab-df-generate:hover {\n",
              "        background-color: #E2EBFA;\n",
              "        box-shadow: 0px 1px 2px rgba(60, 64, 67, 0.3), 0px 1px 3px 1px rgba(60, 64, 67, 0.15);\n",
              "        fill: #174EA6;\n",
              "      }\n",
              "\n",
              "      [theme=dark] .colab-df-generate {\n",
              "        background-color: #3B4455;\n",
              "        fill: #D2E3FC;\n",
              "      }\n",
              "\n",
              "      [theme=dark] .colab-df-generate:hover {\n",
              "        background-color: #434B5C;\n",
              "        box-shadow: 0px 1px 3px 1px rgba(0, 0, 0, 0.15);\n",
              "        filter: drop-shadow(0px 1px 2px rgba(0, 0, 0, 0.3));\n",
              "        fill: #FFFFFF;\n",
              "      }\n",
              "    </style>\n",
              "    <button class=\"colab-df-generate\" onclick=\"generateWithVariable('rows_with_different_values')\"\n",
              "            title=\"Generate code using this dataframe.\"\n",
              "            style=\"display:none;\">\n",
              "\n",
              "  <svg xmlns=\"http://www.w3.org/2000/svg\" height=\"24px\"viewBox=\"0 0 24 24\"\n",
              "       width=\"24px\">\n",
              "    <path d=\"M7,19H8.4L18.45,9,17,7.55,7,17.6ZM5,21V16.75L18.45,3.32a2,2,0,0,1,2.83,0l1.4,1.43a1.91,1.91,0,0,1,.58,1.4,1.91,1.91,0,0,1-.58,1.4L9.25,21ZM18.45,9,17,7.55Zm-12,3A5.31,5.31,0,0,0,4.9,8.1,5.31,5.31,0,0,0,1,6.5,5.31,5.31,0,0,0,4.9,4.9,5.31,5.31,0,0,0,6.5,1,5.31,5.31,0,0,0,8.1,4.9,5.31,5.31,0,0,0,12,6.5,5.46,5.46,0,0,0,6.5,12Z\"/>\n",
              "  </svg>\n",
              "    </button>\n",
              "    <script>\n",
              "      (() => {\n",
              "      const buttonEl =\n",
              "        document.querySelector('#id_7b165ac1-ea75-4ab5-87c5-c5189c205352 button.colab-df-generate');\n",
              "      buttonEl.style.display =\n",
              "        google.colab.kernel.accessAllowed ? 'block' : 'none';\n",
              "\n",
              "      buttonEl.onclick = () => {\n",
              "        google.colab.notebook.generateWithVariable('rows_with_different_values');\n",
              "      }\n",
              "      })();\n",
              "    </script>\n",
              "  </div>\n",
              "\n",
              "    </div>\n",
              "  </div>\n"
            ]
          },
          "metadata": {},
          "execution_count": 140
        }
      ]
    },
    {
      "cell_type": "code",
      "source": [
        "prediction_columns = ['xgb', 'cat', 'rf', 'lgb']\n",
        "\n",
        "pred_df['pred'] = pred_df[prediction_columns].mode(axis=1, dropna=False).iloc[:, 0]\n",
        "pred_df['pred'] = pred_df['pred'].fillna(pred_df['xgb'])"
      ],
      "metadata": {
        "id": "sjf8E8VemT7l"
      },
      "execution_count": 143,
      "outputs": []
    },
    {
      "cell_type": "code",
      "source": [
        "f1_macro_score = f1_score(pred_df['sol'], pred_df['pred'], average='macro')\n",
        "f1_macro_score"
      ],
      "metadata": {
        "colab": {
          "base_uri": "https://localhost:8080/"
        },
        "id": "S94QjZWcoNUu",
        "outputId": "831bdc30-f293-48bb-cd53-70068305ef35"
      },
      "execution_count": 145,
      "outputs": [
        {
          "output_type": "execute_result",
          "data": {
            "text/plain": [
              "0.9129814209170363"
            ]
          },
          "metadata": {},
          "execution_count": 145
        }
      ]
    },
    {
      "cell_type": "code",
      "source": [],
      "metadata": {
        "id": "OMh19z0iohIN"
      },
      "execution_count": null,
      "outputs": []
    },
    {
      "cell_type": "code",
      "source": [
        "missing_values = pred_df['pred'].isnull().sum()\n",
        "\n",
        "# Print the result\n",
        "if missing_values > 0:\n",
        "    print(f'There are {missing_values} missing values in the \\'pred\\' column.')\n",
        "else:\n",
        "    print('There are no missing values in the \\'pred\\' column.')"
      ],
      "metadata": {
        "colab": {
          "base_uri": "https://localhost:8080/"
        },
        "id": "BEPouew3oLsn",
        "outputId": "c1421d34-8042-4af0-ded2-00d46394bf08"
      },
      "execution_count": 144,
      "outputs": [
        {
          "output_type": "stream",
          "name": "stdout",
          "text": [
            "There are no missing values in the 'pred' column.\n"
          ]
        }
      ]
    },
    {
      "cell_type": "code",
      "source": [
        "#standard scaling\n",
        "print(f'XGBoost Cross-Validation F1 Macro: {xgb_scores.mean()}')\n",
        "print(f'CatBoost Cross-Validation F1 Macro: {cat_scores.mean()}')\n",
        "print(f'Random Forest Cross-Validation F1 Macro: {rf_scores.mean()}')\n",
        "print(f'LightGBM Cross-Validation F1 Macro: {lgb_scores.mean()}')"
      ],
      "metadata": {
        "id": "ZZ7wfE2TgZZZ"
      },
      "execution_count": null,
      "outputs": []
    },
    {
      "cell_type": "code",
      "source": [
        "import xgboost as xgb\n",
        "from sklearn.model_selection import GridSearchCV, StratifiedKFold\n",
        "\n",
        "# Define the parameter grid for grid search\n",
        "param_grid = {\n",
        "    'n_estimators': [100, 200, 300],\n",
        "    'max_depth': [3, 5, 7],\n",
        "    'learning_rate': [0.01, 0.1, 0.2]\n",
        "}\n",
        "\n",
        "# Create a grid search object\n",
        "grid_search = GridSearchCV(xgb_model, param_grid, scoring='f1_macro', cv=kf)\n",
        "\n",
        "# Fit the grid search to the data\n",
        "grid_search.fit(X_train, y_train)\n",
        "\n",
        "# Display the best parameters and corresponding f1_macro score\n",
        "print(\"Best Parameters: \", grid_search.best_params_)\n",
        "print(\"Best F1-macro Score: {:.4f}\".format(grid_search.best_score_))"
      ],
      "metadata": {
        "colab": {
          "base_uri": "https://localhost:8080/"
        },
        "id": "1OIzF3tGQexB",
        "outputId": "bb2efd15-41d1-4f8a-af70-a4e1b5f019b6"
      },
      "execution_count": 105,
      "outputs": [
        {
          "output_type": "stream",
          "name": "stdout",
          "text": [
            "Best Parameters:  {'learning_rate': 0.1, 'max_depth': 7, 'n_estimators': 100}\n",
            "Best F1-macro Score: 0.9165\n"
          ]
        }
      ]
    },
    {
      "cell_type": "code",
      "source": [
        "#cat\n",
        "param_grid = {\n",
        "    'iterations': [100, 200, 300],\n",
        "    'depth': [4, 6, 8],\n",
        "    'learning_rate': [0.01, 0.1, 0.2]\n",
        "}\n",
        "\n",
        "# Create a grid search object\n",
        "grid_search_cat = GridSearchCV(cat_model, param_grid, scoring='f1_macro', cv=kf)\n",
        "\n",
        "# Fit the grid search to the data\n",
        "grid_search_cat.fit(X_train, y_train)\n",
        "\n",
        "# Display the best parameters and corresponding f1_macro score\n",
        "print(\"Best Parameters: \", grid_search_cat.best_params_)\n",
        "print(\"Best F1-macro Score: {:.4f}\".format(grid_search_cat.best_score_))"
      ],
      "metadata": {
        "colab": {
          "base_uri": "https://localhost:8080/"
        },
        "id": "ZEtT3dGSYJGr",
        "outputId": "c0511879-da58-49ac-b42a-81d1f807397b"
      },
      "execution_count": 106,
      "outputs": [
        {
          "output_type": "stream",
          "name": "stdout",
          "text": [
            "Best Parameters:  {'depth': 8, 'iterations': 300, 'learning_rate': 0.2}\n",
            "Best F1-macro Score: 0.9008\n"
          ]
        }
      ]
    },
    {
      "cell_type": "code",
      "source": [],
      "metadata": {
        "id": "2VG0ErnyNwCU"
      },
      "execution_count": null,
      "outputs": []
    },
    {
      "cell_type": "code",
      "source": [],
      "metadata": {
        "id": "KvI9y4PFVlG4"
      },
      "execution_count": null,
      "outputs": []
    },
    {
      "cell_type": "code",
      "source": [],
      "metadata": {
        "id": "n9b5y2TmVlEx"
      },
      "execution_count": null,
      "outputs": []
    }
  ]
}